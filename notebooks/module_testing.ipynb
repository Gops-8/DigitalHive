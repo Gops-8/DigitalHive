{
 "cells": [
  {
   "cell_type": "code",
   "execution_count": 1,
   "metadata": {},
   "outputs": [],
   "source": [
    "%load_ext autoreload\n",
    "%autoreload 2 "
   ]
  },
  {
   "cell_type": "code",
   "execution_count": 1,
   "metadata": {},
   "outputs": [],
   "source": [
    "import os\n",
    "os.chdir('/home/gops/work/DigitalHive')"
   ]
  },
  {
   "cell_type": "code",
   "execution_count": 2,
   "metadata": {},
   "outputs": [],
   "source": [
    "import sys\n",
    "import os\n",
    "import pandas as pd\n",
    "import datetime \n",
    "from src.core.scraper import WebScraper\n",
    "from src.core.content_analyzer import ContentAnalyzer\n",
    "from src.core.data_processer import DataProcessor\n",
    "from src.utils.components import Components\n",
    "from src.utils.auth import AuthManager\n",
    "from src.core.advanced_analytics import AdvancedAnalytics\n",
    "from src.utils.cache import AnalysisCache\n",
    "import random\n",
    "import time\n",
    "# from src.utils.scraper import Enc"
   ]
  },
  {
   "cell_type": "code",
   "execution_count": 15,
   "metadata": {},
   "outputs": [],
   "source": [
    "data_processor = DataProcessor()\n",
    "scrapper=WebScraper()\n",
    "analyzer = ContentAnalyzer()\n",
    "analytics= AdvancedAnalytics()\n",
    "cache = AnalysisCache()"
   ]
  },
  {
   "cell_type": "code",
   "execution_count": null,
   "metadata": {},
   "outputs": [],
   "source": []
  },
  {
   "cell_type": "code",
   "execution_count": 5,
   "metadata": {},
   "outputs": [],
   "source": [
    "urls=data_processor.read_excel_to_url(file_path='/home/gops/work/DigitalHive/input/File54.xlsx')"
   ]
  },
  {
   "cell_type": "code",
   "execution_count": 6,
   "metadata": {},
   "outputs": [
    {
     "name": "stdout",
     "output_type": "stream",
     "text": [
      "index: 2208\n",
      "url: peggiandme.com\n",
      "clean_url: https://peggiandme.com\n",
      "scraped_data: {'content': \"Free shipping on all U.S. orders over $75 Free shipping on all U.S. orders over $75 Free shipping on all U.S. orders over $75 Home Shop Shop ONLY ONE LEFT! New Arrivals Spring + Summer Baby Baby Girls Boys Swim Boys Boys Tops Bottoms Swim Hats + Accessories Girls Girls Tops Bottoms Swim Hat, Bows + Accessories Bamboo Bamboo Pajamas Tops Bottoms Womens Womens Shop All MAMA Hats Tops Books, Toys + Accessories SALE SALE MARKDOWNS SEASONAL SALE $12 TEES Contact Log in Facebook Instagram Home Shop ONLY ONE LEFT! New Arrivals Spring + Summer Baby Girls Boys Swim Boys Tops Bottoms Swim Hats + Accessories Girls Tops Bottoms Swim Hat, Bows + Accessories Bamboo Pajamas Tops Bottoms Womens Shop All MAMA Hats Tops Books, Toys + Accessories SALE MARKDOWNS SEASONAL SALE $12 TEES Contact Facebook Instagram TikTok Search Log in Cart Item added to your cart Check out Continue shopping Home Shop Shop ONLY ONE LEFT! New Arrivals Spring + Summer Baby Baby Girls Boys Swim Boys Boys Tops Bottoms Swim Hats + Accessories Girls Girls Tops Bottoms Swim Hat, Bows + Accessories Bamboo Bamboo Pajamas Tops Bottoms Womens Womens Shop All MAMA Hats Tops Books, Toys + Accessories SALE SALE MARKDOWNS SEASONAL SALE $12 TEES Contact Log in Facebook Instagram Home Shop ONLY ONE LEFT! New Arrivals Spring + Summer Baby Girls Boys Swim Boys Tops Bottoms Swim Hats + Accessories Girls Tops Bottoms Swim Hat, Bows + Accessories Bamboo Pajamas Tops Bottoms Womens Shop All MAMA Hats Tops Books, Toys + Accessories SALE MARKDOWNS SEASONAL SALE $12 TEES Contact Facebook Instagram TikTok Search Log in Cart Home Shop Shop ONLY ONE LEFT! New Arrivals Spring + Summer Baby Baby Girls Boys Swim Boys Boys Tops Bottoms Swim Hats + Accessories Girls Girls Tops Bottoms Swim Hat, Bows + Accessories Bamboo Bamboo Pajamas Tops Bottoms Womens Womens Shop All MAMA Hats Tops Books, Toys + Accessories SALE SALE MARKDOWNS SEASONAL SALE $12 TEES Contact Log in Facebook Instagram Home Shop Shop ONLY ONE LEFT! New Arrivals Spring + Summer Baby Baby Girls Boys Swim Boys Boys Tops Bottoms Swim Hats + Accessories Girls Girls Tops Bottoms Swim Hat, Bows + Accessories Bamboo Bamboo Pajamas Tops Bottoms Womens Womens Shop All MAMA Hats Tops Books, Toys + Accessories SALE SALE MARKDOWNS SEASONAL SALE $12 TEES Contact Log in Facebook Instagram Home Shop Shop ONLY ONE LEFT! New Arrivals Spring + Summer Baby Baby Girls Boys Swim Boys Boys Tops Bottoms Swim Hats + Accessories Girls Girls Tops Bottoms Swim Hat, Bows + Accessories Bamboo Bamboo Pajamas Tops Bottoms Womens Womens Shop All MAMA Hats Tops Books, Toys + Accessories SALE SALE MARKDOWNS SEASONAL SALE $12 TEES Contact Log in Facebook Instagram Shop ONLY ONE LEFT! New Arrivals Spring + Summer Baby Baby Girls Boys Swim Boys Boys Tops Bottoms Swim Hats + Accessories Girls Girls Tops Bottoms Swim Hat, Bows + Accessories Bamboo Bamboo Pajamas Tops Bottoms Womens Womens Shop All MAMA Hats Tops Books, Toys + Accessories SALE SALE MARKDOWNS SEASONAL SALE $12 TEES Shop ONLY ONE LEFT! New Arrivals Spring + Summer Baby Baby Girls Boys Swim Boys Boys Tops Bottoms Swim Hats + Accessories Girls Girls Tops Bottoms Swim Hat, Bows + Accessories Bamboo Bamboo Pajamas Tops Bottoms Womens Womens Shop All MAMA Hats Tops Books, Toys + Accessories SALE SALE MARKDOWNS SEASONAL SALE $12 TEES Baby Girls Boys Boys Tops Bottoms Swim Hats + Accessories Girls Tops Bottoms Swim Hat, Bows + Accessories Bamboo Pajamas Tops Bottoms Womens Shop All MAMA Hats Tops SALE MARKDOWNS SEASONAL SALE $12 TEES Log in Facebook Instagram ONLY ONE LEFT! New Arrivals Spring + Summer Swim Books, Toys + Accessories Facebook Instagram TikTok Search Log in Cart Search Search Search Item added to your cart Check out Continue shopping Item added to your cart Check out Continue shopping Item added to your cart Item added to your cart Check out Continue shopping You deserve cute stuff Cheetah Star Sneakers Quick View Cheetah Star Sneakers Regular price $52.00 Regular price Sale price $52.00 Unit price / per You deserve cute stuff You deserve cute stuff You deserve cute stuff Cheetah Star Sneakers Quick View Cheetah Star Sneakers Regular price $52.00 Regular price Sale price $52.00 Unit price / per Quick View Quick View Cheetah Star Sneakers Regular price $52.00 Regular price Sale price $52.00 Unit price / per Cheetah Star Sneakers Regular price $52.00 Regular price Sale price $52.00 Unit price / per Regular price $52.00 Regular price Sale price $52.00 Unit price / per Regular price $52.00 Regular price Sale price $52.00 Newest Arrivals Lunch Box Notes Quick View Lunch Box Notes Regular price $18.00 Regular price Sale price $18.00 Unit price / per Mommin’ Black Trucker Hat Quick View Sold out Mommin’ Black Trucker Hat Regular price $38.00 Regular price Sale price $38.00 Unit price / per Doing My Best Pink Vintage Trucker Hat Quick View Doing My Best Pink Vintage Trucker Hat Regular price $38.00 Regular price Sale price $38.00 Unit price / per Mother Trucker Hat Quick View Sold out Mother Trucker Hat Regular price $34.00 Regular price Sale price $34.00 Unit price / per Newest Arrivals Newest Arrivals Newest Arrivals Lunch Box Notes Quick View Lunch Box Notes Regular price $18.00 Regular price Sale price $18.00 Unit price / per Quick View Quick View Lunch Box Notes Regular price $18.00 Regular price Sale price $18.00 Unit price / per Lunch Box Notes Regular price $18.00 Regular price Sale price $18.00 Unit price / per Regular price $18.00 Regular price Sale price $18.00 Unit price / per Regular price $18.00 Regular price Sale price $18.00 Mommin’ Black Trucker Hat Quick View Sold out Mommin’ Black Trucker Hat Regular price $38.00 Regular price Sale price $38.00 Unit price / per Quick View Sold out Quick View Sold out Sold out Mommin’ Black Trucker Hat Regular price $38.00 Regular price Sale price $38.00 Unit price / per Mommin’ Black Trucker Hat Regular price $38.00 Regular price Sale price $38.00 Unit price / per Regular price $38.00 Regular price Sale price $38.00 Unit price / per Regular price $38.00 Regular price Sale price $38.00 Doing My Best Pink Vintage Trucker Hat Quick View Doing My Best Pink Vintage Trucker Hat Regular price $38.00 Regular price Sale price $38.00 Unit price / per Quick View Quick View Doing My Best Pink Vintage Trucker Hat Regular price $38.00 Regular price Sale price $38.00 Unit price / per Doing My Best Pink Vintage Trucker Hat Regular price $38.00 Regular price Sale price $38.00 Unit price / per Regular price $38.00 Regular price Sale price $38.00 Unit price / per Regular price $38.00 Regular price Sale price $38.00 Mother Trucker Hat Quick View Sold out Mother Trucker Hat Regular price $34.00 Regular price Sale price $34.00 Unit price / per Quick View Sold out Quick View Sold out Sold out Mother Trucker Hat Regular price $34.00 Regular price Sale price $34.00 Unit price / per Mother Trucker Hat Regular price $34.00 Regular price Sale price $34.00 Unit price / per Regular price $34.00 Regular price Sale price $34.00 Unit price / per Regular price $34.00 Regular price Sale price $34.00 BUTTERY SOFT BAMBOO SHOP BAMBOO BUTTERY SOFT BAMBOO SHOP BAMBOO BUTTERY SOFT BAMBOO SHOP BAMBOO BUTTERY SOFT BAMBOO SHOP BAMBOO BUTTERY SOFT BAMBOO SHOP BAMBOO BUTTERY SOFT BAMBOO BUTTERY SOFT BAMBOO Hello fall. SHOP FALL Hello fall. SHOP FALL Hello fall. SHOP FALL Hello fall. SHOP FALL Hello fall. SHOP FALL Hello fall. Hello fall. SWIM Cross Back Bikini | Purple Floral Quick View Sale Cross Back Bikini | Purple Floral Regular price $12.00 Regular price $30.00 Sale price $12.00 Unit price / per Ruffle One Piece | Wildflower Quick View Sale Ruffle One Piece | Wildflower Regular price $12.00 Regular price $30.00 Sale price $12.00 Unit price / per X Me Out Swim Shorts Quick View Sale X Me Out Swim Shorts Regular price $12.00 Regular price $30.00 Sale price $12.00 Unit price / per SWIM SWIM SWIM Cross Back Bikini | Purple Floral Quick View Sale Cross Back Bikini | Purple Floral Regular price $12.00 Regular price $30.00 Sale price $12.00 Unit price / per Quick View Sale Quick View Sale Sale Cross Back Bikini | Purple Floral Regular price $12.00 Regular price $30.00 Sale price $12.00 Unit price / per Cross Back Bikini | Purple Floral Regular price $12.00 Regular price $30.00 Sale price $12.00 Unit price / per Regular price $12.00 Regular price $30.00 Sale price $12.00 Unit price / per Regular price $12.00 Regular price $30.00 Sale price $12.00 Ruffle One Piece | Wildflower Quick View Sale Ruffle One Piece | Wildflower Regular price $12.00 Regular price $30.00 Sale price $12.00 Unit price / per Quick View Sale Quick View Sale Sale Ruffle One Piece | Wildflower Regular price $12.00 Regular price $30.00 Sale price $12.00 Unit price / per Ruffle One Piece | Wildflower Regular price $12.00 Regular price $30.00 Sale price $12.00 Unit price / per Regular price $12.00 Regular price $30.00 Sale price $12.00 Unit price / per Regular price $12.00 Regular price $30.00 Sale price $12.00 X Me Out Swim Shorts Quick View Sale X Me Out Swim Shorts Regular price $12.00 Regular price $30.00 Sale price $12.00 Unit price / per Quick View Sale Quick View Sale Sale X Me Out Swim Shorts Regular price $12.00 Regular price $30.00 Sale price $12.00 Unit price / per X Me Out Swim Shorts Regular price $12.00 Regular price $30.00 Sale price $12.00 Unit price / per Regular price $12.00 Regular price $30.00 Sale price $12.00 Unit price / per Regular price $12.00 Regular price $30.00 Sale price $12.00 Subscribe to our emails Be the first to know about new collections and exclusive offers. Your email Subscribe Subscribe to our emails Be the first to know about new collections and exclusive offers. Your email Subscribe Subscribe to our emails Subscribe to our emails Be the first to know about new collections and exclusive offers. Be the first to know about new collections and exclusive offers. Your email Subscribe Your email Your email meet the owner My name is Alivia. I am a mom of two. I took my love for kids + clothes and Peggi + Me was born. Behind Peggi + Me is a team of just me and my two little models. We don't have employees or a big wearhouse. All of your orders are packed with so much love right on our dining room table. We are the definition of a small business. So, THANK YOU for being here and showing us support! You are helping this small business grow. Xo, Alivia meet the owner My name is Alivia. I am a mom of two. I took my love for kids + clothes and Peggi + Me was born. Behind Peggi + Me is a team of just me and my two little models. We don't have employees or a big wearhouse. All of your orders are packed with so much love right on our dining room table. We are the definition of a small business. So, THANK YOU for being here and showing us support! You are helping this small business grow. Xo, Alivia meet the owner My name is Alivia. I am a mom of two. I took my love for kids + clothes and Peggi + Me was born. Behind Peggi + Me is a team of just me and my two little models. We don't have employees or a big wearhouse. All of your orders are packed with so much love right on our dining room table. We are the definition of a small business. So, THANK YOU for being here and showing us support! You are helping this small business grow. Xo, Alivia meet the owner My name is Alivia. I am a mom of two. I took my love for kids + clothes and Peggi + Me was born. Behind Peggi + Me is a team of just me and my two little models. We don't have employees or a big wearhouse. All of your orders are packed with so much love right on our dining room table. We are the definition of a small business. So, THANK YOU for being here and showing us support! You are helping this small business grow. Xo, Alivia meet the owner My name is Alivia. I am a mom of two. I took my love for kids + clothes and Peggi + Me was born. Behind Peggi + Me is a team of just me and my two little models. We don't have employees or a big wearhouse. All of your orders are packed with so much love right on our dining room table. We are the definition of a small business. So, THANK YOU for being here and showing us support! You are helping this small business grow. Xo, Alivia meet the owner meet the owner My name is Alivia. I am a mom of two. I took my love for kids + clothes and Peggi + Me was born. Behind Peggi + Me is a team of just me and my two little models. We don't have employees or a big wearhouse. All of your orders are packed with so much love right on our dining room table. We are the definition of a small business. So, THANK YOU for being here and showing us support! You are helping this small business grow. Xo, Alivia My name is Alivia. I am a mom of two. I took my love for kids + clothes and Peggi + Me was born. Behind Peggi + Me is a team of just me and my two little models. We don't have employees or a big wearhouse. All of your orders are packed with so much love right on our dining room table. We are the definition of a small business. So, THANK YOU for being here and showing us support! You are helping this small business grow. Xo, Alivia Account Search Privacy Policy Refund Policy Terms of Service Contact Information Account Search Privacy Policy Refund Policy Terms of Service Contact Information Come Say Hello We are located inside McRae's4410 Bell Street Amarillo, TX 79109 Sign up and save! Your email Subscribe © 2025, PEGGI + ME Powered by Shopify Payment methods American Express Apple Pay Discover Mastercard PayPal Shop Pay Visa Account Search Privacy Policy Refund Policy Terms of Service Contact Information Account Search Privacy Policy Refund Policy Terms of Service Contact Information Come Say Hello We are located inside McRae's4410 Bell Street Amarillo, TX 79109 Sign up and save! Your email Subscribe Account Search Privacy Policy Refund Policy Terms of Service Contact Information Account Search Privacy Policy Refund Policy Terms of Service Contact Information Come Say Hello We are located inside McRae's4410 Bell Street Amarillo, TX 79109 Account Search Privacy Policy Refund Policy Terms of Service Contact Information Account Account Search Privacy Policy Refund Policy Terms of Service Contact Information Account Come Say Hello We are located inside McRae's4410 Bell Street Amarillo, TX 79109 Come Say Hello We are located inside McRae's4410 Bell Street Amarillo, TX 79109 We are located inside McRae's 4410 Bell Street Amarillo, TX 79109 Sign up and save! Your email Subscribe Sign up and save! Your email Subscribe Sign up and save! Your email Your email © 2025, PEGGI + ME Powered by Shopify Payment methods American Express Apple Pay Discover Mastercard PayPal Shop Pay Visa © 2025, PEGGI + ME Powered by Shopify Payment methods American Express Apple Pay Discover Mastercard PayPal Shop Pay Visa © 2025, PEGGI + ME Powered by Shopify Payment methods American Express Apple Pay Discover Mastercard PayPal Shop Pay Visa © 2025, PEGGI + ME Powered by Shopify Payment methods American Express Apple Pay Discover Mastercard PayPal Shop Pay Visa X Get 10% Off Promotions, new products and sales. Directly to your inbox. Your email Subscribe Get 10% Off Promotions, new products and sales. Directly to your inbox. Your email Subscribe Get 10% Off Promotions, new products and sales. Directly to your inbox. Your email Subscribe Get 10% Off Promotions, new products and sales. Directly to your inbox. Promotions, new products and sales. Directly to your inbox. Your email Your email X $ Select one Quantity Decrease quantity for Increase quantity for Add to cart Product Details X $ Select one Quantity Decrease quantity for Increase quantity for Add to cart Product Details $ Select one Quantity Decrease quantity for Increase quantity for Add to cart Product Details $ Select one Quantity Decrease quantity for Increase quantity for Add to cart $ Select one Quantity Decrease quantity for Increase quantity for Add to cart Select one Quantity Decrease quantity for Increase quantity for Decrease quantity for Increase quantity for Add to cart Product Details\", 'metadata': {'title': '\\n      Online Clothing Store for Baby + Kids\\n – PEGGI + ME', 'meta_description': 'Children’s Clothing & Accessories'}}\n",
      "analysis {'keywords': 'burlap, home decor, baby clothes, spring summer fashion, bamboo pajamas', 'business_name': 'Peggi & Me', 'products_services': 'Bamboo Pajamas, Baby Clothes, Swim Hats + Accessories, MAMA Hats, Books, Toys + Accessories, Cheetah Star Sneakers', 'target_audience': 'Mothers Seeking Cute Fashionable Items', 'location': 'United States', 'headers': []}\n"
     ]
    }
   ],
   "source": [
    "random_number = random.randint(1, 5000)\n",
    "print('index:',random_number)\n",
    "url=urls[random_number]\n",
    "# url='peachurbate.com'\n",
    "print(\"url:\",url)\n",
    "clean_url=data_processor.clean_url(url)\n",
    "print('clean_url:',clean_url)\n",
    "scraped_data=scrapper.scrape_website(clean_url)\n",
    "print('scraped_data:',scraped_data)\n",
    "# scraped_data\n",
    "analysis=analyzer.analyze_with_ollama(scraped_data['content'],clean_url)\n",
    "print('analysis',analysis)"
   ]
  },
  {
   "cell_type": "code",
   "execution_count": 7,
   "metadata": {},
   "outputs": [
    {
     "data": {
      "text/plain": [
       "{'url': 'peggiandme.com',\n",
       " 'status': 'success',\n",
       " 'business_name': 'Peggi & Me',\n",
       " 'keyword_1': 'burlap',\n",
       " 'keyword_2': ' home decor',\n",
       " 'keyword_3': ' baby clothes',\n",
       " 'keyword_4': ' spring summer fashion',\n",
       " 'keyword_5': ' bamboo pajamas',\n",
       " 'product_services_1': 'Bamboo Pajamas',\n",
       " 'product_services_2': ' Baby Clothes',\n",
       " 'product_services_3': ' Swim Hats + Accessories',\n",
       " 'target_audiance_1': 'Mothers Seeking Cute Fashionable Items',\n",
       " 'target_audiance_2': '',\n",
       " 'target_audiance_3': ''}"
      ]
     },
     "execution_count": 7,
     "metadata": {},
     "output_type": "execute_result"
    }
   ],
   "source": [
    "\n",
    "result = {\n",
    "    'url': url,\n",
    "    'status': 'success',\n",
    "}\n",
    "# Extract location and product for advanced analytics\n",
    "location        = analysis.get('location', '')\n",
    "keywords        = analysis.get('keywords', '') \n",
    "target_audiences = analysis.get('target_audience', '') \n",
    "business_name = analysis.get('business_name', '') \n",
    "product_services = analysis.get('products_services', '') \n",
    "\n",
    "keyword_list = keywords.split(',')\n",
    "result['business_name']=business_name\n",
    "for i in range(5):\n",
    "  try:\n",
    "    result[f'keyword_{i+1}']=keyword_list[i]\n",
    "  except:\n",
    "    result[f'keyword_{i+1}']=''\n",
    "\n",
    "product_services_list= product_services.split(',')\n",
    "for i in range(3):\n",
    "  try:\n",
    "    result[f'product_services_{i+1}']=product_services_list[i]\n",
    "  except:\n",
    "    result[f'product_services_{i+1}']=''\n",
    "\n",
    "target_audience_list= target_audiences.split(',')\n",
    "for i in range(3):\n",
    "  try:\n",
    "    result[f'target_audiance_{i+1}']=target_audience_list[i]\n",
    "  except:\n",
    "    result[f'target_audiance_{i+1}']=''    \n",
    "\n",
    "result"
   ]
  },
  {
   "cell_type": "code",
   "execution_count": 16,
   "metadata": {},
   "outputs": [
    {
     "ename": "IndexError",
     "evalue": "string index out of range",
     "output_type": "error",
     "traceback": [
      "\u001b[0;31m---------------------------------------------------------------------------\u001b[0m",
      "\u001b[0;31mIndexError\u001b[0m                                Traceback (most recent call last)",
      "File \u001b[0;32m<timed exec>:1\u001b[0m\n",
      "File \u001b[0;32m~/work/DigitalHive/src/core/advanced_analytics.py:142\u001b[0m, in \u001b[0;36mAdvancedAnalytics.find_top_competitors\u001b[0;34m(self, product, location, origin_url, pages)\u001b[0m\n\u001b[1;32m    140\u001b[0m \u001b[38;5;250m\u001b[39m\u001b[38;5;124;03m\"\"\"Find top competitors for a given product and location.\"\"\"\u001b[39;00m\n\u001b[1;32m    141\u001b[0m raw_links \u001b[38;5;241m=\u001b[39m \u001b[38;5;28mself\u001b[39m\u001b[38;5;241m.\u001b[39mfetch_google_results(product, location, pages\u001b[38;5;241m=\u001b[39mpages)\n\u001b[0;32m--> 142\u001b[0m top_competitors \u001b[38;5;241m=\u001b[39m \u001b[38;5;28;43mself\u001b[39;49m\u001b[38;5;241;43m.\u001b[39;49m\u001b[43mclean_and_filter_urls\u001b[49m\u001b[43m(\u001b[49m\u001b[43mraw_links\u001b[49m\u001b[43m,\u001b[49m\u001b[43m \u001b[49m\u001b[43morigin_url\u001b[49m\u001b[43m)\u001b[49m\n\u001b[1;32m    143\u001b[0m \u001b[38;5;28;01mreturn\u001b[39;00m top_competitors\n",
      "File \u001b[0;32m~/work/DigitalHive/src/core/advanced_analytics.py:57\u001b[0m, in \u001b[0;36mAdvancedAnalytics.clean_and_filter_urls\u001b[0;34m(self, urls, origin_url)\u001b[0m\n\u001b[1;32m     55\u001b[0m \u001b[38;5;28;01mif\u001b[39;00m \u001b[38;5;28many\u001b[39m(known \u001b[38;5;129;01min\u001b[39;00m domain \u001b[38;5;28;01mfor\u001b[39;00m known \u001b[38;5;129;01min\u001b[39;00m known_domains):\n\u001b[1;32m     56\u001b[0m     \u001b[38;5;28;01mcontinue\u001b[39;00m\n\u001b[0;32m---> 57\u001b[0m first_letter \u001b[38;5;241m=\u001b[39m \u001b[43mdomain\u001b[49m\u001b[43m[\u001b[49m\u001b[38;5;241;43m0\u001b[39;49m\u001b[43m]\u001b[49m\n\u001b[1;32m     58\u001b[0m \u001b[38;5;28;01mif\u001b[39;00m first_letter \u001b[38;5;129;01min\u001b[39;00m excluded_domains \u001b[38;5;129;01mand\u001b[39;00m domain \u001b[38;5;129;01min\u001b[39;00m excluded_domains[first_letter]:\n\u001b[1;32m     59\u001b[0m     \u001b[38;5;28;01mcontinue\u001b[39;00m\n",
      "\u001b[0;31mIndexError\u001b[0m: string index out of range"
     ]
    }
   ],
   "source": [
    "%%time \n",
    "\n",
    "url_list=analytics.find_top_competitors(keyword_list[0],location,url,pages=2)\n",
    "\n",
    "url_list"
   ]
  },
  {
   "cell_type": "code",
   "execution_count": null,
   "metadata": {},
   "outputs": [],
   "source": []
  },
  {
   "cell_type": "code",
   "execution_count": null,
   "metadata": {},
   "outputs": [],
   "source": []
  },
  {
   "cell_type": "code",
   "execution_count": null,
   "metadata": {},
   "outputs": [],
   "source": []
  },
  {
   "cell_type": "code",
   "execution_count": null,
   "metadata": {},
   "outputs": [],
   "source": []
  },
  {
   "cell_type": "code",
   "execution_count": 11,
   "metadata": {},
   "outputs": [
    {
     "data": {
      "text/plain": [
       "{'content': \"Your shopping bag Your shopping bag Your shopping bag Your shopping bag Join our Newly Upgraded Loyalty Program My Account / log in / register Wishlist my basket Toggle navigation New Arrivals valentine's shop Sets Tops All Tops Tanks/Sleeveless Tees Sweaters Cardigans Shacket Long Sleeve Bottoms All Bottoms Jeans Leggings Shorts Skirts Dresses All Dresses Maxi Midi Mini Jumpsuits Rompers Accessories Shoes End of Season Sale 2024 Vivie Boutique Toggle navigation New Arrivals valentine's shop Sets Tops All Tops Tanks/Sleeveless Tees Sweaters Cardigans Shacket Long Sleeve Bottoms All Bottoms Jeans Leggings Shorts Skirts Dresses All Dresses Maxi Midi Mini Jumpsuits Rompers Accessories Shoes End of Season Sale 2024 Quick view Whitney Striped Maxi Dress $72.00 Quick view Hillary Boatneck Sweater $98.00 Quick view Frayed Trucker Jacket $119.00 Quick view Lauren Midi Dress With Smocked Waist $129.00 Quick view Lou Split Jacket $109.00 Quick view Aspen Shacket $119.00 Quick view Marley Girlfriend Cuffed $98.00 Quick view Love Letter Ruched Cami Top $46.00 Quick view High Rise Cuffed Wide Jeans $92.00 Quick view Just Because Button Down Shirred Top $64.00 Quick view Bow Tie Sleeveless Knitted Top $46.00 Quick view Valentine's Day Bow $12.00 Quick view Mesh Veil Fascinator $56.00 Quick view Loopy Bow Fascinator $32.00 Quick view Polka Dot Fascinator $28.00 Quick view Floral Mesh Hair Fascinator $22.00 information About Us Events Contact Us Shipping Sizing Return Policy Privacy Policy Terms & Conditions customer service we are committed to bringing you beautiful fashion and exceptional customer service! if you have any problems... click here to email us join us #vivieboutique connect with us Sign up for exclusive sales! Submit © Copyright 2025 Vivie Boutique / Website Designing Fresh Scroll To Top Join our Newly Upgraded Loyalty Program My Account / log in / register Wishlist my basket Toggle navigation New Arrivals valentine's shop Sets Tops All Tops Tanks/Sleeveless Tees Sweaters Cardigans Shacket Long Sleeve Bottoms All Bottoms Jeans Leggings Shorts Skirts Dresses All Dresses Maxi Midi Mini Jumpsuits Rompers Accessories Shoes End of Season Sale 2024 Vivie Boutique Toggle navigation New Arrivals valentine's shop Sets Tops All Tops Tanks/Sleeveless Tees Sweaters Cardigans Shacket Long Sleeve Bottoms All Bottoms Jeans Leggings Shorts Skirts Dresses All Dresses Maxi Midi Mini Jumpsuits Rompers Accessories Shoes End of Season Sale 2024 Join our Newly Upgraded Loyalty Program My Account / log in / register Wishlist my basket Toggle navigation New Arrivals valentine's shop Sets Tops All Tops Tanks/Sleeveless Tees Sweaters Cardigans Shacket Long Sleeve Bottoms All Bottoms Jeans Leggings Shorts Skirts Dresses All Dresses Maxi Midi Mini Jumpsuits Rompers Accessories Shoes End of Season Sale 2024 Vivie Boutique Toggle navigation New Arrivals valentine's shop Sets Tops All Tops Tanks/Sleeveless Tees Sweaters Cardigans Shacket Long Sleeve Bottoms All Bottoms Jeans Leggings Shorts Skirts Dresses All Dresses Maxi Midi Mini Jumpsuits Rompers Accessories Shoes End of Season Sale 2024 Join our Newly Upgraded Loyalty Program My Account / log in / register Wishlist my basket Toggle navigation New Arrivals valentine's shop Sets Tops All Tops Tanks/Sleeveless Tees Sweaters Cardigans Shacket Long Sleeve Bottoms All Bottoms Jeans Leggings Shorts Skirts Dresses All Dresses Maxi Midi Mini Jumpsuits Rompers Accessories Shoes End of Season Sale 2024 Vivie Boutique Toggle navigation New Arrivals valentine's shop Sets Tops All Tops Tanks/Sleeveless Tees Sweaters Cardigans Shacket Long Sleeve Bottoms All Bottoms Jeans Leggings Shorts Skirts Dresses All Dresses Maxi Midi Mini Jumpsuits Rompers Accessories Shoes End of Season Sale 2024 Join our Newly Upgraded Loyalty Program My Account / log in / register Wishlist my basket Toggle navigation New Arrivals valentine's shop Sets Tops All Tops Tanks/Sleeveless Tees Sweaters Cardigans Shacket Long Sleeve Bottoms All Bottoms Jeans Leggings Shorts Skirts Dresses All Dresses Maxi Midi Mini Jumpsuits Rompers Accessories Shoes End of Season Sale 2024 Vivie Boutique Toggle navigation New Arrivals valentine's shop Sets Tops All Tops Tanks/Sleeveless Tees Sweaters Cardigans Shacket Long Sleeve Bottoms All Bottoms Jeans Leggings Shorts Skirts Dresses All Dresses Maxi Midi Mini Jumpsuits Rompers Accessories Shoes End of Season Sale 2024 My Account / log in / register Wishlist my basket Toggle navigation New Arrivals valentine's shop Sets Tops All Tops Tanks/Sleeveless Tees Sweaters Cardigans Shacket Long Sleeve Bottoms All Bottoms Jeans Leggings Shorts Skirts Dresses All Dresses Maxi Midi Mini Jumpsuits Rompers Accessories Shoes End of Season Sale 2024 Vivie Boutique My Account / log in / register Wishlist my basket My Account / log in / register Wishlist my basket My Account / log in / register Wishlist my basket my basket my basket Toggle navigation New Arrivals valentine's shop Sets Tops All Tops Tanks/Sleeveless Tees Sweaters Cardigans Shacket Long Sleeve Bottoms All Bottoms Jeans Leggings Shorts Skirts Dresses All Dresses Maxi Midi Mini Jumpsuits Rompers Accessories Shoes End of Season Sale 2024 Toggle navigation New Arrivals valentine's shop Sets Tops All Tops Tanks/Sleeveless Tees Sweaters Cardigans Shacket Long Sleeve Bottoms All Bottoms Jeans Leggings Shorts Skirts Dresses All Dresses Maxi Midi Mini Jumpsuits Rompers Accessories Shoes End of Season Sale 2024 Toggle navigation New Arrivals valentine's shop Sets Tops All Tops Tanks/Sleeveless Tees Sweaters Cardigans Shacket Long Sleeve Bottoms All Bottoms Jeans Leggings Shorts Skirts Dresses All Dresses Maxi Midi Mini Jumpsuits Rompers Accessories Shoes End of Season Sale 2024 Toggle navigation New Arrivals valentine's shop Sets Tops All Tops Tanks/Sleeveless Tees Sweaters Cardigans Shacket Long Sleeve Bottoms All Bottoms Jeans Leggings Shorts Skirts Dresses All Dresses Maxi Midi Mini Jumpsuits Rompers Accessories Shoes End of Season Sale 2024 All Tops Tanks/Sleeveless Tees Sweaters Cardigans Shacket Long Sleeve All Tops Tanks/Sleeveless Tees Sweaters Cardigans Shacket Long Sleeve All Tops Tanks/Sleeveless Tees Sweaters Cardigans Shacket Long Sleeve All Bottoms Jeans Leggings Shorts Skirts All Bottoms Jeans Leggings Shorts Skirts All Bottoms Jeans Leggings Shorts Skirts All Dresses Maxi Midi Mini Jumpsuits Rompers All Dresses Maxi Midi Mini Jumpsuits Rompers All Dresses Maxi Midi Mini Jumpsuits Rompers Vivie Boutique Vivie Boutique Vivie Boutique Toggle navigation New Arrivals valentine's shop Sets Tops All Tops Tanks/Sleeveless Tees Sweaters Cardigans Shacket Long Sleeve Bottoms All Bottoms Jeans Leggings Shorts Skirts Dresses All Dresses Maxi Midi Mini Jumpsuits Rompers Accessories Shoes End of Season Sale 2024 Toggle navigation New Arrivals valentine's shop Sets Tops All Tops Tanks/Sleeveless Tees Sweaters Cardigans Shacket Long Sleeve Bottoms All Bottoms Jeans Leggings Shorts Skirts Dresses All Dresses Maxi Midi Mini Jumpsuits Rompers Accessories Shoes End of Season Sale 2024 Toggle navigation New Arrivals valentine's shop Sets Tops All Tops Tanks/Sleeveless Tees Sweaters Cardigans Shacket Long Sleeve Bottoms All Bottoms Jeans Leggings Shorts Skirts Dresses All Dresses Maxi Midi Mini Jumpsuits Rompers Accessories Shoes End of Season Sale 2024 Toggle navigation New Arrivals valentine's shop Sets Tops All Tops Tanks/Sleeveless Tees Sweaters Cardigans Shacket Long Sleeve Bottoms All Bottoms Jeans Leggings Shorts Skirts Dresses All Dresses Maxi Midi Mini Jumpsuits Rompers Accessories Shoes End of Season Sale 2024 All Tops Tanks/Sleeveless Tees Sweaters Cardigans Shacket Long Sleeve All Tops Tanks/Sleeveless Tees Sweaters Cardigans Shacket Long Sleeve All Tops Tanks/Sleeveless Tees Sweaters Cardigans Shacket Long Sleeve All Bottoms Jeans Leggings Shorts Skirts All Bottoms Jeans Leggings Shorts Skirts All Bottoms Jeans Leggings Shorts Skirts All Dresses Maxi Midi Mini Jumpsuits Rompers All Dresses Maxi Midi Mini Jumpsuits Rompers All Dresses Maxi Midi Mini Jumpsuits Rompers Quick view Whitney Striped Maxi Dress $72.00 Quick view Hillary Boatneck Sweater $98.00 Quick view Frayed Trucker Jacket $119.00 Quick view Lauren Midi Dress With Smocked Waist $129.00 Quick view Lou Split Jacket $109.00 Quick view Aspen Shacket $119.00 Quick view Marley Girlfriend Cuffed $98.00 Quick view Love Letter Ruched Cami Top $46.00 Quick view High Rise Cuffed Wide Jeans $92.00 Quick view Just Because Button Down Shirred Top $64.00 Quick view Bow Tie Sleeveless Knitted Top $46.00 Quick view Valentine's Day Bow $12.00 Quick view Mesh Veil Fascinator $56.00 Quick view Loopy Bow Fascinator $32.00 Quick view Polka Dot Fascinator $28.00 Quick view Floral Mesh Hair Fascinator $22.00 information About Us Events Contact Us Shipping Sizing Return Policy Privacy Policy Terms & Conditions customer service we are committed to bringing you beautiful fashion and exceptional customer service! if you have any problems... click here to email us join us #vivieboutique connect with us Sign up for exclusive sales! Submit © Copyright 2025 Vivie Boutique / Website Designing Fresh Quick view Whitney Striped Maxi Dress $72.00 Quick view Hillary Boatneck Sweater $98.00 Quick view Frayed Trucker Jacket $119.00 Quick view Lauren Midi Dress With Smocked Waist $129.00 Quick view Lou Split Jacket $109.00 Quick view Aspen Shacket $119.00 Quick view Marley Girlfriend Cuffed $98.00 Quick view Love Letter Ruched Cami Top $46.00 Quick view High Rise Cuffed Wide Jeans $92.00 Quick view Just Because Button Down Shirred Top $64.00 Quick view Bow Tie Sleeveless Knitted Top $46.00 Quick view Valentine's Day Bow $12.00 Quick view Mesh Veil Fascinator $56.00 Quick view Loopy Bow Fascinator $32.00 Quick view Polka Dot Fascinator $28.00 Quick view Floral Mesh Hair Fascinator $22.00 Quick view Whitney Striped Maxi Dress $72.00 Quick view Hillary Boatneck Sweater $98.00 Quick view Frayed Trucker Jacket $119.00 Quick view Lauren Midi Dress With Smocked Waist $129.00 Quick view Lou Split Jacket $109.00 Quick view Aspen Shacket $119.00 Quick view Marley Girlfriend Cuffed $98.00 Quick view Love Letter Ruched Cami Top $46.00 Quick view High Rise Cuffed Wide Jeans $92.00 Quick view Just Because Button Down Shirred Top $64.00 Quick view Bow Tie Sleeveless Knitted Top $46.00 Quick view Valentine's Day Bow $12.00 Quick view Mesh Veil Fascinator $56.00 Quick view Loopy Bow Fascinator $32.00 Quick view Polka Dot Fascinator $28.00 Quick view Floral Mesh Hair Fascinator $22.00 Quick view Whitney Striped Maxi Dress $72.00 Quick view Hillary Boatneck Sweater $98.00 Quick view Frayed Trucker Jacket $119.00 Quick view Lauren Midi Dress With Smocked Waist $129.00 Quick view Lou Split Jacket $109.00 Quick view Aspen Shacket $119.00 Quick view Marley Girlfriend Cuffed $98.00 Quick view Love Letter Ruched Cami Top $46.00 Quick view High Rise Cuffed Wide Jeans $92.00 Quick view Just Because Button Down Shirred Top $64.00 Quick view Bow Tie Sleeveless Knitted Top $46.00 Quick view Valentine's Day Bow $12.00 Quick view Mesh Veil Fascinator $56.00 Quick view Loopy Bow Fascinator $32.00 Quick view Polka Dot Fascinator $28.00 Quick view Floral Mesh Hair Fascinator $22.00 Quick view Whitney Striped Maxi Dress $72.00 Quick view Hillary Boatneck Sweater $98.00 Quick view Frayed Trucker Jacket $119.00 Quick view Lauren Midi Dress With Smocked Waist $129.00 Quick view Lou Split Jacket $109.00 Quick view Aspen Shacket $119.00 Quick view Marley Girlfriend Cuffed $98.00 Quick view Love Letter Ruched Cami Top $46.00 Quick view High Rise Cuffed Wide Jeans $92.00 Quick view Just Because Button Down Shirred Top $64.00 Quick view Bow Tie Sleeveless Knitted Top $46.00 Quick view Valentine's Day Bow $12.00 Quick view Mesh Veil Fascinator $56.00 Quick view Loopy Bow Fascinator $32.00 Quick view Polka Dot Fascinator $28.00 Quick view Floral Mesh Hair Fascinator $22.00 Quick view Whitney Striped Maxi Dress $72.00 Quick view Hillary Boatneck Sweater $98.00 Quick view Frayed Trucker Jacket $119.00 Quick view Lauren Midi Dress With Smocked Waist $129.00 Quick view Lou Split Jacket $109.00 Quick view Aspen Shacket $119.00 Quick view Marley Girlfriend Cuffed $98.00 Quick view Love Letter Ruched Cami Top $46.00 Quick view High Rise Cuffed Wide Jeans $92.00 Quick view Just Because Button Down Shirred Top $64.00 Quick view Bow Tie Sleeveless Knitted Top $46.00 Quick view Valentine's Day Bow $12.00 Quick view Mesh Veil Fascinator $56.00 Quick view Loopy Bow Fascinator $32.00 Quick view Polka Dot Fascinator $28.00 Quick view Floral Mesh Hair Fascinator $22.00 Quick view Whitney Striped Maxi Dress $72.00 Quick view Hillary Boatneck Sweater $98.00 Quick view Frayed Trucker Jacket $119.00 Quick view Lauren Midi Dress With Smocked Waist $129.00 Quick view Lou Split Jacket $109.00 Quick view Aspen Shacket $119.00 Quick view Marley Girlfriend Cuffed $98.00 Quick view Love Letter Ruched Cami Top $46.00 Quick view High Rise Cuffed Wide Jeans $92.00 Quick view Just Because Button Down Shirred Top $64.00 Quick view Bow Tie Sleeveless Knitted Top $46.00 Quick view Valentine's Day Bow $12.00 Quick view Mesh Veil Fascinator $56.00 Quick view Loopy Bow Fascinator $32.00 Quick view Polka Dot Fascinator $28.00 Quick view Floral Mesh Hair Fascinator $22.00 Quick view Whitney Striped Maxi Dress $72.00 Quick view Hillary Boatneck Sweater $98.00 Quick view Frayed Trucker Jacket $119.00 Quick view Lauren Midi Dress With Smocked Waist $129.00 Quick view Lou Split Jacket $109.00 Quick view Aspen Shacket $119.00 Quick view Marley Girlfriend Cuffed $98.00 Quick view Love Letter Ruched Cami Top $46.00 Quick view High Rise Cuffed Wide Jeans $92.00 Quick view Just Because Button Down Shirred Top $64.00 Quick view Bow Tie Sleeveless Knitted Top $46.00 Quick view Valentine's Day Bow $12.00 Quick view Mesh Veil Fascinator $56.00 Quick view Loopy Bow Fascinator $32.00 Quick view Polka Dot Fascinator $28.00 Quick view Floral Mesh Hair Fascinator $22.00 Quick view Whitney Striped Maxi Dress $72.00 Quick view Hillary Boatneck Sweater $98.00 Quick view Frayed Trucker Jacket $119.00 Quick view Lauren Midi Dress With Smocked Waist $129.00 Quick view Lou Split Jacket $109.00 Quick view Aspen Shacket $119.00 Quick view Marley Girlfriend Cuffed $98.00 Quick view Love Letter Ruched Cami Top $46.00 Quick view High Rise Cuffed Wide Jeans $92.00 Quick view Just Because Button Down Shirred Top $64.00 Quick view Bow Tie Sleeveless Knitted Top $46.00 Quick view Valentine's Day Bow $12.00 Quick view Mesh Veil Fascinator $56.00 Quick view Loopy Bow Fascinator $32.00 Quick view Polka Dot Fascinator $28.00 Quick view Floral Mesh Hair Fascinator $22.00 Quick view Whitney Striped Maxi Dress $72.00 Quick view Whitney Striped Maxi Dress $72.00 Quick view Whitney Striped Maxi Dress $72.00 Quick view Quick view Whitney Striped Maxi Dress $72.00 $72.00 Quick view Hillary Boatneck Sweater $98.00 Quick view Hillary Boatneck Sweater $98.00 Quick view Hillary Boatneck Sweater $98.00 Quick view Quick view Hillary Boatneck Sweater $98.00 $98.00 Quick view Frayed Trucker Jacket $119.00 Quick view Frayed Trucker Jacket $119.00 Quick view Frayed Trucker Jacket $119.00 Quick view Quick view Frayed Trucker Jacket $119.00 $119.00 Quick view Lauren Midi Dress With Smocked Waist $129.00 Quick view Lauren Midi Dress With Smocked Waist $129.00 Quick view Lauren Midi Dress With Smocked Waist $129.00 Quick view Quick view Lauren Midi Dress With Smocked Waist $129.00 $129.00 Quick view Lou Split Jacket $109.00 Quick view Lou Split Jacket $109.00 Quick view Lou Split Jacket $109.00 Quick view Quick view Lou Split Jacket $109.00 $109.00 Quick view Aspen Shacket $119.00 Quick view Aspen Shacket $119.00 Quick view Aspen Shacket $119.00 Quick view Quick view Aspen Shacket $119.00 $119.00 Quick view Marley Girlfriend Cuffed $98.00 Quick view Marley Girlfriend Cuffed $98.00 Quick view Marley Girlfriend Cuffed $98.00 Quick view Quick view Marley Girlfriend Cuffed $98.00 $98.00 Quick view Love Letter Ruched Cami Top $46.00 Quick view Love Letter Ruched Cami Top $46.00 Quick view Love Letter Ruched Cami Top $46.00 Quick view Quick view Love Letter Ruched Cami Top $46.00 $46.00 Quick view High Rise Cuffed Wide Jeans $92.00 Quick view High Rise Cuffed Wide Jeans $92.00 Quick view High Rise Cuffed Wide Jeans $92.00 Quick view Quick view High Rise Cuffed Wide Jeans $92.00 $92.00 Quick view Just Because Button Down Shirred Top $64.00 Quick view Just Because Button Down Shirred Top $64.00 Quick view Just Because Button Down Shirred Top $64.00 Quick view Quick view Just Because Button Down Shirred Top $64.00 $64.00 Quick view Bow Tie Sleeveless Knitted Top $46.00 Quick view Bow Tie Sleeveless Knitted Top $46.00 Quick view Bow Tie Sleeveless Knitted Top $46.00 Quick view Quick view Bow Tie Sleeveless Knitted Top $46.00 $46.00 Quick view Valentine's Day Bow $12.00 Quick view Valentine's Day Bow $12.00 Quick view Valentine's Day Bow $12.00 Quick view Quick view Valentine's Day Bow $12.00 $12.00 Quick view Mesh Veil Fascinator $56.00 Quick view Mesh Veil Fascinator $56.00 Quick view Mesh Veil Fascinator $56.00 Quick view Quick view Mesh Veil Fascinator $56.00 $56.00 Quick view Loopy Bow Fascinator $32.00 Quick view Loopy Bow Fascinator $32.00 Quick view Loopy Bow Fascinator $32.00 Quick view Quick view Loopy Bow Fascinator $32.00 $32.00 Quick view Polka Dot Fascinator $28.00 Quick view Polka Dot Fascinator $28.00 Quick view Polka Dot Fascinator $28.00 Quick view Quick view Polka Dot Fascinator $28.00 $28.00 Quick view Floral Mesh Hair Fascinator $22.00 Quick view Floral Mesh Hair Fascinator $22.00 Quick view Floral Mesh Hair Fascinator $22.00 Quick view Quick view Floral Mesh Hair Fascinator $22.00 $22.00 information About Us Events Contact Us Shipping Sizing Return Policy Privacy Policy Terms & Conditions customer service we are committed to bringing you beautiful fashion and exceptional customer service! if you have any problems... click here to email us join us #vivieboutique connect with us Sign up for exclusive sales! Submit © Copyright 2025 Vivie Boutique / Website Designing Fresh information About Us Events Contact Us Shipping Sizing Return Policy Privacy Policy Terms & Conditions customer service we are committed to bringing you beautiful fashion and exceptional customer service! if you have any problems... click here to email us join us #vivieboutique connect with us Sign up for exclusive sales! Submit © Copyright 2025 Vivie Boutique / Website Designing Fresh information About Us Events Contact Us Shipping Sizing Return Policy Privacy Policy Terms & Conditions customer service we are committed to bringing you beautiful fashion and exceptional customer service! if you have any problems... click here to email us join us #vivieboutique connect with us Sign up for exclusive sales! Submit information About Us Events Contact Us Shipping Sizing Return Policy Privacy Policy Terms & Conditions customer service we are committed to bringing you beautiful fashion and exceptional customer service! if you have any problems... click here to email us join us #vivieboutique connect with us Sign up for exclusive sales! Submit information About Us Events Contact Us Shipping Sizing Return Policy Privacy Policy Terms & Conditions information About Us Events Contact Us Shipping Sizing Return Policy Privacy Policy Terms & Conditions information About Us Events Contact Us Shipping Sizing Return Policy Privacy Policy Terms & Conditions customer service we are committed to bringing you beautiful fashion and exceptional customer service! if you have any problems... click here to email us customer service we are committed to bringing you beautiful fashion and exceptional customer service! if you have any problems... click here to email us join us #vivieboutique join us #vivieboutique connect with us Sign up for exclusive sales! Submit connect with us Sign up for exclusive sales! Submit Submit © Copyright 2025 Vivie Boutique / Website Designing Fresh Scroll To Top New Arrivals valentine's shop Sets Tops All Tops Tanks/Sleeveless Tees Sweaters Cardigans Shacket Long Sleeve Bottoms All Bottoms Jeans Leggings Shorts Skirts Dresses All Dresses Maxi Midi Mini Jumpsuits Rompers Accessories Shoes End of Season Sale 2024 My Account Create account Wishlist Search ★ List Comparison View Compare ★ List Comparison View Compare List Comparison List Comparison View Compare - Share Add to Bag - Share Add to Bag - Share Add to Bag - Share Share Add to Bag This website uses JavaScript to apply discounts. To be eligible for discounts, please enable JavaScript for your browser. Enter your discount code here APPLY [[DISCOUNT_CODE]] Searching... ✔️ Discount code found, it will be applied at checkout. Discount code cannot be applied to the cart. The discount code cannot be applied to the cart. Please ensure the cart meets the requirements to apply this discount code. Discount code not found. Discount code cannot be combined with the offers applied to the cart. Enter your discount code here APPLY [[DISCOUNT_CODE]] Enter your discount code here Enter your discount code here APPLY [[DISCOUNT_CODE]] [[DISCOUNT_CODE]] Searching... Searching... ✔️ Discount code found, it will be applied at checkout. ✔️ Discount code found, it will be applied at checkout. Discount code cannot be applied to the cart. Discount code cannot be applied to the cart. The discount code cannot be applied to the cart. Please ensure the cart meets the requirements to apply this discount code. Discount code not found. Discount code not found. Discount code cannot be combined with the offers applied to the cart. Discount code cannot be combined with the offers applied to the cart.\",\n",
       " 'metadata': {'title': \"Vivie Boutique - Online Women's Boutique\",\n",
       "  'meta_description': \"Vivie Boutique is an affordable online women's boutique with trendy clothing! Free shipping over $50.00. Shop now!\"}}"
      ]
     },
     "execution_count": 11,
     "metadata": {},
     "output_type": "execute_result"
    }
   ],
   "source": [
    "scraped_data=scrapper.scrape_website(clean_url)\n",
    "scraped_data"
   ]
  },
  {
   "cell_type": "code",
   "execution_count": 17,
   "metadata": {},
   "outputs": [],
   "source": [
    "cache.set(clean_url,scraped_data)"
   ]
  },
  {
   "cell_type": "code",
   "execution_count": 18,
   "metadata": {},
   "outputs": [
    {
     "data": {
      "text/plain": [
       "{'keyword1': 'candle making supplies',\n",
       " 'keyword2': 'fragrance oils for candle making',\n",
       " 'keyword3': 'candle making wax',\n",
       " 'keyword4': 'candle making fragrance oils',\n",
       " 'keyword5': 'wholesale candle making supplies',\n",
       " 'business_name': 'Peach State Candle Supply',\n",
       " 'products_services': 'Fragrance Oils, Candle Making Supplies, Room Spray/Body Spray Base, All Purpose Cleaner Base, Perfume Base, Concentrated Mop Soap Base, Reed/Electric Diffuser Base, Create Your Own Home Products',\n",
       " 'target_audience': 'Home Enthusiasts and Crafters',\n",
       " 'location': 'United States',\n",
       " 'keywords': [],\n",
       " 'headers': []}"
      ]
     },
     "execution_count": 18,
     "metadata": {},
     "output_type": "execute_result"
    }
   ],
   "source": [
    "analysis=analyzer.analyze_with_ollama(scraped_data['content'],clean_url)\n",
    "analysis"
   ]
  },
  {
   "cell_type": "code",
   "execution_count": 21,
   "metadata": {},
   "outputs": [
    {
     "data": {
      "text/plain": [
       "(['fragrance oils for candle making',\n",
       "  'candle making supplies in United States',\n",
       "  'concentrated mop soap base',\n",
       "  'renewable fragrance oil options',\n",
       "  'wholesale candle making bases'],\n",
       " 'United States',\n",
       " 'Peach State Candle Supply')"
      ]
     },
     "execution_count": 21,
     "metadata": {},
     "output_type": "execute_result"
    }
   ],
   "source": [
    "location = analysis.get('location', '')\n",
    "keywords = analysis.get('keywords', [])\n",
    "business_name= analysis.get('business_name','')\n",
    "keywords,location,business_name"
   ]
  },
  {
   "cell_type": "code",
   "execution_count": null,
   "metadata": {},
   "outputs": [],
   "source": []
  },
  {
   "cell_type": "code",
   "execution_count": 23,
   "metadata": {},
   "outputs": [
    {
     "name": "stdout",
     "output_type": "stream",
     "text": [
      "\n",
      "support.google.com\n",
      "\n",
      "support.google.com\n",
      "\n",
      "support.google.com\n",
      "\n",
      "support.google.com\n",
      "\n",
      "support.google.com\n",
      "\n",
      "support.google.com\n",
      "\n",
      "support.google.com\n",
      "\n",
      "support.google.com\n",
      "\n",
      "support.google.com\n",
      "\n",
      "support.google.com\n",
      "CPU times: user 44 ms, sys: 8.46 ms, total: 52.5 ms\n",
      "Wall time: 5.49 s\n"
     ]
    },
    {
     "data": {
      "text/plain": [
       "[]"
      ]
     },
     "execution_count": 23,
     "metadata": {},
     "output_type": "execute_result"
    }
   ],
   "source": [
    "%%time\n",
    "top_competitor = analytics.find_top_competitors(keyword_list[0],location,clean_url,pages=10)\n",
    "top_competitor"
   ]
  },
  {
   "cell_type": "code",
   "execution_count": 27,
   "metadata": {},
   "outputs": [
    {
     "data": {
      "text/plain": [
       "'Yes'"
      ]
     },
     "execution_count": 27,
     "metadata": {},
     "output_type": "execute_result"
    }
   ],
   "source": [
    "analytics.check_gmb_setup(clean_url)"
   ]
  },
  {
   "cell_type": "code",
   "execution_count": 29,
   "metadata": {},
   "outputs": [
    {
     "data": {
      "text/plain": [
       "300"
      ]
     },
     "execution_count": 29,
     "metadata": {},
     "output_type": "execute_result"
    }
   ],
   "source": [
    "non_indexed_pages= analytics.count_non_indexed_pages(clean_url)\n",
    "non_indexed_pages"
   ]
  },
  {
   "cell_type": "code",
   "execution_count": 20,
   "metadata": {},
   "outputs": [
    {
     "name": "stdout",
     "output_type": "stream",
     "text": [
      "The autoreload extension is already loaded. To reload it, use:\n",
      "  %reload_ext autoreload\n"
     ]
    }
   ],
   "source": [
    "%load_ext autoreload\n",
    "%autoreload 2"
   ]
  },
  {
   "cell_type": "code",
   "execution_count": 21,
   "metadata": {},
   "outputs": [],
   "source": [
    "%reload_ext autoreload"
   ]
  },
  {
   "cell_type": "code",
   "execution_count": 22,
   "metadata": {},
   "outputs": [],
   "source": [
    "from src.core.advanced_analytics import AdvancedAnalytics\n",
    "analytics= AdvancedAnalytics()"
   ]
  },
  {
   "cell_type": "code",
   "execution_count": 40,
   "metadata": {},
   "outputs": [
    {
     "name": "stdout",
     "output_type": "stream",
     "text": [
      "Error counting total pages for https://peachstatecandlesupply.com: Couldn't find a tree builder with the features you requested: xml. Do you need to install a parser library?\n"
     ]
    },
    {
     "data": {
      "text/plain": [
       "100"
      ]
     },
     "execution_count": 40,
     "metadata": {},
     "output_type": "execute_result"
    }
   ],
   "source": [
    "total_pages = analytics.count_total_pages(clean_url)\n",
    "total_pages"
   ]
  },
  {
   "cell_type": "code",
   "execution_count": null,
   "metadata": {},
   "outputs": [],
   "source": []
  },
  {
   "cell_type": "code",
   "execution_count": 24,
   "metadata": {},
   "outputs": [],
   "source": [
    "# for url in urls:\n",
    "   \n",
    "#     clean_url=data_processor.clean_url(url)\n",
    "#     print(url,clean_url)\n",
    "#     try:\n",
    "#          data=scrapper.scrape_website(clean_url)\n",
    "#     except:\n",
    "#         print(f'Error in scrapping : {clean_url}')\n",
    "#         continue\n",
    "#     print(data)"
   ]
  },
  {
   "cell_type": "markdown",
   "metadata": {},
   "source": []
  },
  {
   "cell_type": "code",
   "execution_count": 26,
   "metadata": {},
   "outputs": [
    {
     "name": "stdout",
     "output_type": "stream",
     "text": [
      "Found 21 URLs\n",
      "\n",
      "Processing [1/21]: url\n",
      "✗ Scraping error: name 'web_scraper' is not defined\n",
      "\n",
      "Processing [2/21]: sanjosebengalcats.com\n",
      "✗ Scraping error: name 'web_scraper' is not defined\n",
      "\n",
      "Processing [3/21]: peachmarketplace.com\n",
      "✗ Scraping error: name 'web_scraper' is not defined\n",
      "\n",
      "Processing [4/21]: peachmcintyre.com\n",
      "✗ Scraping error: name 'web_scraper' is not defined\n",
      "\n",
      "Processing [5/21]: peachmedical.com\n",
      "✗ Scraping error: name 'web_scraper' is not defined\n",
      "\n",
      "Processing [6/21]: peachmeleggings.com\n",
      "✗ Scraping error: name 'web_scraper' is not defined\n",
      "\n",
      "Processing [7/21]: peachmode.com\n",
      "✗ Scraping error: name 'web_scraper' is not defined\n",
      "\n",
      "Processing [8/21]: peachmodern.com\n",
      "✗ Scraping error: name 'web_scraper' is not defined\n",
      "\n",
      "Processing [9/21]: peachmountain.com\n",
      "✗ Scraping error: name 'web_scraper' is not defined\n",
      "\n",
      "Processing [10/21]: peachofmind.com\n",
      "✗ Scraping error: name 'web_scraper' is not defined\n",
      "\n",
      "Processing [11/21]: peachonaleash.com\n",
      "✗ Scraping error: name 'web_scraper' is not defined\n",
      "\n",
      "Processing [12/21]: peachorchardapartments.com\n",
      "✗ Scraping error: name 'web_scraper' is not defined\n",
      "\n",
      "Processing [13/21]: peachpaperdesign.com\n",
      "✗ Scraping error: name 'web_scraper' is not defined\n",
      "\n",
      "Processing [14/21]: peachperfectskincare.com\n",
      "✗ Scraping error: name 'web_scraper' is not defined\n",
      "\n",
      "Processing [15/21]: peachpitgym.com\n",
      "✗ Scraping error: name 'web_scraper' is not defined\n",
      "\n",
      "Processing [16/21]: peachpitmusic.com\n",
      "✗ Scraping error: name 'web_scraper' is not defined\n",
      "\n",
      "Processing [17/21]: peachpitpotteryshop.com\n",
      "✗ Scraping error: name 'web_scraper' is not defined\n",
      "\n",
      "Processing [18/21]: peach-pump.com\n",
      "✗ Scraping error: name 'web_scraper' is not defined\n",
      "\n",
      "Processing [19/21]: peachstatebasketball.com\n",
      "✗ Scraping error: name 'web_scraper' is not defined\n",
      "\n",
      "Processing [20/21]: peachstatecandlesupply.com\n",
      "✗ Scraping error: name 'web_scraper' is not defined\n",
      "\n",
      "Processing [21/21]: peachstateco.com\n",
      "✗ Scraping error: name 'web_scraper' is not defined\n",
      "\n",
      "Summary:\n",
      "Total URLs processed: 21\n",
      "Successful: 0\n",
      "Empty responses: 0\n",
      "Failed: 21\n",
      "\n",
      "Results saved to: scraping_results.xlsx\n"
     ]
    }
   ],
   "source": [
    "try:\n",
    "    # Read URLs into DataFrame\n",
    "    urls = data_processor.read_excel_to_url('/home/gops/work/market_analysis/input/test.xlsx')\n",
    "    print(f\"Found {len(urls)} URLs\")\n",
    "    \n",
    "    # Sample 50 URLs from DataFrame\n",
    "    # urls = urls[:10]\n",
    "    \n",
    "    # Initialize output dictionary\n",
    "    output = {}\n",
    "    \n",
    "    for i, url in enumerate(urls, 1):\n",
    "        try:\n",
    "            # Skip empty or invalid URLs\n",
    "            if not url or pd.isna(url):\n",
    "                print(f\"Skipping empty URL at position {i}\")\n",
    "                continue\n",
    "                \n",
    "            print(f\"\\nProcessing [{i}/{len(urls)}]: {url}\")\n",
    "            \n",
    "            # Clean URL\n",
    "            try:\n",
    "                clean_url = data_processor.clean_url(url)\n",
    "                if not clean_url:\n",
    "                    raise ValueError(\"URL cleaning resulted in empty URL\")\n",
    "            except Exception as e:\n",
    "                print(f\"Error cleaning URL {url}: {str(e)}\")\n",
    "                output[url] = {\n",
    "                    'cleaned_url': None,\n",
    "                    'status': 'error',\n",
    "                    'data': None,\n",
    "                    'error': f\"URL cleaning error: {str(e)}\",\n",
    "                    'timestamp': datetime.now().isoformat()\n",
    "                }\n",
    "                continue\n",
    "            \n",
    "            # Initialize dictionary for this URL\n",
    "            output[url] = {\n",
    "                'cleaned_url': clean_url,\n",
    "                'status': 'pending',\n",
    "                'data': None,\n",
    "                'error': None,\n",
    "                'timestamp': datetime.now().isoformat()\n",
    "            }\n",
    "            \n",
    "            # Add scheme if missing\n",
    "            if not clean_url.startswith(('http://', 'https://')):\n",
    "                clean_url = 'https://' + clean_url\n",
    "            \n",
    "            # Scrape website\n",
    "            try:\n",
    "                scraped_data = web_scraper.scrape_website(clean_url)\n",
    "                \n",
    "                # Check if scraping was successful\n",
    "                if scraped_data.get('content') or (scraped_data.get('metadata', {}).get('title') != 'Loading...' \n",
    "                    and scraped_data.get('metadata', {}).get('title') is not None):\n",
    "                    output[url].update({\n",
    "                        'status': 'success',\n",
    "                        'data': {\n",
    "                            'title': scraped_data.get('metadata', {}).get('title', ''),\n",
    "                            'meta_description': scraped_data.get('metadata', {}).get('meta_description', ''),\n",
    "                            'content': scraped_data.get('content', '')\n",
    "                        }\n",
    "                    })\n",
    "                    print(f\"✓ Success - {clean_url}\")\n",
    "                else:\n",
    "                    output[url].update({\n",
    "                        'status': 'empty',\n",
    "                        'error': 'No content scraped'\n",
    "                    })\n",
    "                    print(f\"✗ Empty response - {clean_url}\")\n",
    "                    \n",
    "            except Exception as e:\n",
    "                output[url].update({\n",
    "                    'status': 'error',\n",
    "                    'error': f\"Scraping error: {str(e)}\"\n",
    "                })\n",
    "                print(f\"✗ Scraping error: {str(e)}\")\n",
    "                \n",
    "        except Exception as e:\n",
    "            if url in output:\n",
    "                output[url].update({\n",
    "                    'status': 'error',\n",
    "                    'error': f\"Processing error: {str(e)}\"\n",
    "                })\n",
    "            else:\n",
    "                output[url] = {\n",
    "                    'cleaned_url': None,\n",
    "                    'status': 'error',\n",
    "                    'data': None,\n",
    "                    'error': f\"Processing error: {str(e)}\",\n",
    "                    'timestamp': datetime.now().isoformat()\n",
    "                }\n",
    "            print(f\"✗ Processing error: {str(e)}\")\n",
    "            continue\n",
    "\n",
    "    # Print summary\n",
    "    success_count = len([v for v in output.values() if v['status'] == 'success'])\n",
    "    empty_count = len([v for v in output.values() if v['status'] == 'empty'])\n",
    "    error_count = len([v for v in output.values() if v['status'] == 'error'])\n",
    "    \n",
    "    print(\"\\nSummary:\")\n",
    "    print(f\"Total URLs processed: {len(output)}\")\n",
    "    print(f\"Successful: {success_count}\")\n",
    "    print(f\"Empty responses: {empty_count}\")\n",
    "    print(f\"Failed: {error_count}\")\n",
    "    \n",
    "    # Convert to DataFrame\n",
    "    results_df = pd.DataFrame.from_dict(output, orient='index')\n",
    "    results_df.reset_index(inplace=True)\n",
    "    results_df.rename(columns={'index': 'original_url'}, inplace=True)\n",
    "    \n",
    "    # Save results\n",
    "    output_file = f\"scraping_results.xlsx\"\n",
    "    results_df.to_excel(output_file, index=False)\n",
    "    print(f\"\\nResults saved to: {output_file}\")\n",
    "\n",
    "except Exception as e:\n",
    "    print(f\"Main process error: {str(e)}\")"
   ]
  },
  {
   "cell_type": "code",
   "execution_count": 25,
   "metadata": {},
   "outputs": [],
   "source": [
    "from datetime import datetime"
   ]
  },
  {
   "cell_type": "code",
   "execution_count": null,
   "metadata": {},
   "outputs": [],
   "source": []
  }
 ],
 "metadata": {
  "kernelspec": {
   "display_name": "venv",
   "language": "python",
   "name": "python3"
  },
  "language_info": {
   "codemirror_mode": {
    "name": "ipython",
    "version": 3
   },
   "file_extension": ".py",
   "mimetype": "text/x-python",
   "name": "python",
   "nbconvert_exporter": "python",
   "pygments_lexer": "ipython3",
   "version": "3.10.12"
  }
 },
 "nbformat": 4,
 "nbformat_minor": 2
}
