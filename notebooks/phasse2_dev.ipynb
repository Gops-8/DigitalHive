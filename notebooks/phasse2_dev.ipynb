{
 "cells": [
  {
   "cell_type": "code",
   "execution_count": 1,
   "metadata": {},
   "outputs": [
    {
     "name": "stdout",
     "output_type": "stream",
     "text": [
      "/home/gops/work/market_analysis/notebooks\n"
     ]
    }
   ],
   "source": [
    "!pwd"
   ]
  },
  {
   "cell_type": "code",
   "execution_count": 2,
   "metadata": {},
   "outputs": [],
   "source": [
    "%load_ext autoreload\n",
    "%autoreload 2 "
   ]
  },
  {
   "cell_type": "code",
   "execution_count": 3,
   "metadata": {},
   "outputs": [],
   "source": [
    "import os \n",
    "os.chdir('/home/gops/work/market_analysis')"
   ]
  },
  {
   "cell_type": "code",
   "execution_count": 4,
   "metadata": {},
   "outputs": [],
   "source": [
    "import sys\n",
    "import os\n",
    "import pandas as pd\n",
    "\n",
    "from src.core.scraper import WebScraper\n",
    "from src.core.content_analyzer import ContentAnalyzer\n",
    "from src.core.data_processer import DataProcessor\n",
    "from src.core.advanced_analytics import AdvancedAnalytics\n",
    "from src.utils.rate_limiter import RateLimiter\n",
    "import datetime"
   ]
  },
  {
   "cell_type": "code",
   "execution_count": 5,
   "metadata": {},
   "outputs": [],
   "source": [
    "# Initialize Components\n",
    "scraper = WebScraper()\n",
    "processor = DataProcessor()\n",
    "analyzer = ContentAnalyzer()\n",
    "rate_limiter = RateLimiter()\n",
    "advance_analyzer = AdvancedAnalytics()"
   ]
  },
  {
   "cell_type": "code",
   "execution_count": 6,
   "metadata": {},
   "outputs": [],
   "source": [
    "urls=processor.read_excel_to_url(file_path='/home/gops/work/market_analysis/input/test.xlsx')"
   ]
  },
  {
   "cell_type": "code",
   "execution_count": 7,
   "metadata": {},
   "outputs": [],
   "source": [
    "sample_urls= urls[1:2]"
   ]
  },
  {
   "cell_type": "code",
   "execution_count": 8,
   "metadata": {},
   "outputs": [
    {
     "name": "stdout",
     "output_type": "stream",
     "text": [
      "Processed URL: https://sanjosebengalcats.com\n"
     ]
    }
   ],
   "source": [
    "processed_urls = []\n",
    "for url in sample_urls:\n",
    "    try:\n",
    "        clean_url = processor.clean_url(url)\n",
    "        processed_urls.append(clean_url)\n",
    "        print(f\"Processed URL: {clean_url}\")\n",
    "    except Exception as e:\n",
    "        print(f\"Error processing URL {url}: {e}\")"
   ]
  },
  {
   "cell_type": "code",
   "execution_count": 9,
   "metadata": {},
   "outputs": [
    {
     "name": "stdout",
     "output_type": "stream",
     "text": [
      "Scraped data from https://sanjosebengalcats.com: {'title': 'Bengal Kittens & Cats For Sale | San Jose Bengal Cats', 'meta_description': 'Bengal Cats are the most exotic and adored cats among families and friends for their cuteness and uniqueness. It is one of the best Cats breeders in CA.'}\n"
     ]
    }
   ],
   "source": [
    "scraped_data = {}\n",
    "for url in processed_urls:\n",
    "    try:\n",
    "        rate_limiter.wait()\n",
    "        data = scraper.scrape_website(url)\n",
    "        scraped_data[url] = data\n",
    "        print(f\"Scraped data from {url}: {data['metadata']}\")\n",
    "    except Exception as e:\n",
    "        print(f\"Error scraping {url}: {e}\")"
   ]
  },
  {
   "cell_type": "code",
   "execution_count": 10,
   "metadata": {},
   "outputs": [
    {
     "name": "stdout",
     "output_type": "stream",
     "text": [
      "Analysis for https://sanjosebengalcats.com: {'keywords': ['bengal cats for sale san jose', 'san jose bengal cat breeders', 'exotic feline companion near me', 'bengal kittens prices new york los angeles miami', 'intelligent domestic cats breed'], 'business_name': 'San Jose Bengal Cats', 'products_services': 'Bengal kittens, Bengal adult cats, pedigree paperwork, health checked by licensed veterinarian', 'target_audience': 'Individuals and families seeking exotic feline companions, specifically those in New York, Los Angeles, Miami, and beyond, with a focus on first-time owners and Bengal enthusiasts.', 'location': 'San Jose', 'headers': [], 'emails': ['rene@sanjosebengalcats.com'], 'phones': []}\n"
     ]
    },
    {
     "data": {
      "text/plain": [
       "{'https://sanjosebengalcats.com': {'keywords': ['bengal cats for sale san jose',\n",
       "   'san jose bengal cat breeders',\n",
       "   'exotic feline companion near me',\n",
       "   'bengal kittens prices new york los angeles miami',\n",
       "   'intelligent domestic cats breed'],\n",
       "  'business_name': 'San Jose Bengal Cats',\n",
       "  'products_services': 'Bengal kittens, Bengal adult cats, pedigree paperwork, health checked by licensed veterinarian',\n",
       "  'target_audience': 'Individuals and families seeking exotic feline companions, specifically those in New York, Los Angeles, Miami, and beyond, with a focus on first-time owners and Bengal enthusiasts.',\n",
       "  'location': 'San Jose',\n",
       "  'headers': [],\n",
       "  'emails': ['rene@sanjosebengalcats.com'],\n",
       "  'phones': []}}"
      ]
     },
     "execution_count": 10,
     "metadata": {},
     "output_type": "execute_result"
    }
   ],
   "source": [
    "analysis_results = {}\n",
    "for url, data in scraped_data.items():\n",
    "    try:\n",
    "        if data['content']:\n",
    "            analysis = analyzer.analyze_with_ollama(data['content'], url)\n",
    "            analysis_results[url] = analysis\n",
    "            print(f\"Analysis for {url}: {analysis}\")\n",
    "        else:\n",
    "            print(f\"No content to analyze for {url}\")\n",
    "    except Exception as e:\n",
    "        print(f\"Error analyzing {url}: {e}\")\n",
    "analysis_results"
   ]
  },
  {
   "cell_type": "code",
   "execution_count": 11,
   "metadata": {},
   "outputs": [
    {
     "name": "stdout",
     "output_type": "stream",
     "text": [
      "Keywords for https://sanjosebengalcats.com: bengal cats for sale san jose | Location: San Jose\n",
      "['https://support.google.com', 'https://www.google.com', 'https://www.google.com', 'https://www.google.co.in', 'https://accounts.google.com']\n"
     ]
    }
   ],
   "source": [
    "for url, analysis_data in analysis_results.items():\n",
    "    try:\n",
    "        keywords = analysis_data['keywords'][0]\n",
    "        location = analysis_data['location']\n",
    "        print(f\"Keywords for {url}: {keywords} | Location: {location}\")\n",
    "        result=advance_analyzer.find_top_competitors(keywords, location,origin_url=url,pages=1)\n",
    "        print(result)\n",
    "    except Exception as e:\n",
    "        print(f\"Error extracting keywords for {url}: {e}\")"
   ]
  },
  {
   "cell_type": "code",
   "execution_count": 22,
   "metadata": {},
   "outputs": [],
   "source": [
    "from urllib.parse import urlparse\n",
    "\n",
    "def clean_and_filter_urls_test(urls, origin_url):\n",
    "    \"\"\"Clean and filter URLs to extract unique competitors.\"\"\"\n",
    "    unique_urls = set()\n",
    "    base_urls = []\n",
    "    excluded_domains = {\"google\", \"facebook\", \"yelp\", \"instagram\"}\n",
    "\n",
    "    for url in urls:\n",
    "        parsed = urlparse(url)\n",
    "\n",
    "        # Skip URLs with excluded domains\n",
    "        if any(domain in parsed.netloc for domain in excluded_domains):\n",
    "            continue\n",
    "        \n",
    "        # Extract base URL\n",
    "        base_url = f\"{parsed.scheme}://{parsed.netloc}\"\n",
    "\n",
    "        # Add to unique URLs if not already present and not equal to the origin URL\n",
    "        if base_url not in unique_urls and base_url != origin_url:\n",
    "            unique_urls.add(base_url)\n",
    "            base_urls.append(base_url)\n",
    "\n",
    "        # Stop when we have 5 unique URLs\n",
    "        if len(base_urls) == 5:\n",
    "            break\n",
    "\n",
    "    return base_urls\n"
   ]
  },
  {
   "cell_type": "code",
   "execution_count": 14,
   "metadata": {},
   "outputs": [],
   "source": [
    "all_links=advance_analyzer.fetch_google_results('Bengal cats for sale', 'US', pages=1)"
   ]
  },
  {
   "cell_type": "code",
   "execution_count": 23,
   "metadata": {},
   "outputs": [
    {
     "data": {
      "text/plain": [
       "['https://wildnsweetbengals.com',\n",
       " 'https://www.thebengalcats.com',\n",
       " 'https://www.royalbengalcattery.com',\n",
       " 'https://www.belleamibengals.com',\n",
       " 'https://kittens-bengal.com']"
      ]
     },
     "execution_count": 23,
     "metadata": {},
     "output_type": "execute_result"
    }
   ],
   "source": [
    "import requests\n",
    "from bs4 import BeautifulSoup\n",
    "from urllib.parse import urlparse\n",
    "import json\n",
    "import time\n",
    "clean_and_filter_urls_test(all_links,'https://sanjosebengalcats.com/')"
   ]
  },
  {
   "cell_type": "code",
   "execution_count": 26,
   "metadata": {},
   "outputs": [
    {
     "data": {
      "text/plain": [
       "True"
      ]
     },
     "execution_count": 26,
     "metadata": {},
     "output_type": "execute_result"
    }
   ],
   "source": [
    "advance_analyzer.check_gmb_setup('https://www.golgix.com/')"
   ]
  },
  {
   "cell_type": "code",
   "execution_count": 27,
   "metadata": {},
   "outputs": [
    {
     "name": "stdout",
     "output_type": "stream",
     "text": [
      "Error counting non-indexed pages for https://www.golgix.com/: name 're' is not defined\n"
     ]
    }
   ],
   "source": [
    "advance_analyzer.count_non_indexed_pages('https://www.golgix.com/')"
   ]
  },
  {
   "cell_type": "code",
   "execution_count": 28,
   "metadata": {},
   "outputs": [],
   "source": [
    "headers = {\"User-Agent\": \"Mozilla/5.0 (Windows NT 10.0; Win64; x64) AppleWebKit/537.36 (KHTML, like Gecko) Chrome/91.0.4472.124 Safari/537.36\"}\n",
    "import requests\n",
    "from bs4 import BeautifulSoup\n",
    "from urllib.parse import urlparse\n",
    "import json\n",
    "import time\n",
    "import re\n",
    "def count_non_indexed_pages( url):\n",
    "    \"\"\"Count the number of non-indexed pages for a given domain.\"\"\"\n",
    "    try:\n",
    "        site_query = f\"site:{urlparse(url).netloc}\"  # Google site query\n",
    "        search_url = f\"https://www.google.com/search?q={site_query}\"\n",
    "        response = requests.get(search_url, headers=headers)\n",
    "        soup = BeautifulSoup(response.text, 'html.parser')\n",
    "\n",
    "        # Check if there are zero results\n",
    "        no_results_text = soup.find(\"div\", class_=\"card-section\")\n",
    "        if no_results_text and \"did not match any documents\" in no_results_text.text:\n",
    "            return 0\n",
    "\n",
    "        # Count results (example logic, may need refinement)\n",
    "        result_stats = soup.find(\"div\", id=\"result-stats\")\n",
    "        if result_stats:\n",
    "            match = re.search(r\"About ([\\d,]+) results\", result_stats.text)\n",
    "            if match:\n",
    "                return int(match.group(1).replace(\",\", \"\"))\n",
    "\n",
    "    except Exception as e:\n",
    "        print(f\"Error counting non-indexed pages for {url}: {e}\")\n",
    "    \n",
    "    return None"
   ]
  },
  {
   "cell_type": "code",
   "execution_count": 30,
   "metadata": {},
   "outputs": [
    {
     "data": {
      "text/plain": [
       "114"
      ]
     },
     "execution_count": 30,
     "metadata": {},
     "output_type": "execute_result"
    }
   ],
   "source": [
    "count_non_indexed_pages('https://www.thebengalcats.com')"
   ]
  },
  {
   "cell_type": "code",
   "execution_count": 12,
   "metadata": {},
   "outputs": [
    {
     "ename": "NameError",
     "evalue": "name 'search_competitors' is not defined",
     "output_type": "error",
     "traceback": [
      "\u001b[0;31m---------------------------------------------------------------------------\u001b[0m",
      "\u001b[0;31mNameError\u001b[0m                                 Traceback (most recent call last)",
      "Cell \u001b[0;32mIn[12], line 3\u001b[0m\n\u001b[1;32m      1\u001b[0m business \u001b[38;5;241m=\u001b[39m \u001b[38;5;124m\"\u001b[39m\u001b[38;5;124mStarbucks\u001b[39m\u001b[38;5;124m\"\u001b[39m\n\u001b[1;32m      2\u001b[0m product \u001b[38;5;241m=\u001b[39m \u001b[38;5;124m\"\u001b[39m\u001b[38;5;124mcoffee\u001b[39m\u001b[38;5;124m\"\u001b[39m\n\u001b[0;32m----> 3\u001b[0m competitors \u001b[38;5;241m=\u001b[39m \u001b[43msearch_competitors\u001b[49m(business, product)\n\u001b[1;32m      4\u001b[0m competitors\n",
      "\u001b[0;31mNameError\u001b[0m: name 'search_competitors' is not defined"
     ]
    }
   ],
   "source": [
    "business = \"Starbucks\"\n",
    "product = \"coffee\"\n",
    "competitors = search_competitors(business, product)\n",
    "competitors"
   ]
  },
  {
   "cell_type": "code",
   "execution_count": 6,
   "metadata": {},
   "outputs": [],
   "source": [
    "# business_name=\"Starbucks\"\n",
    "product=\"Bengal kittens for sale in united states\"\n",
    "query = f\"{product}\"\n",
    "google_search_url = f\"https://www.google.com/search?q={'+'.join(query.split())}\"\n",
    "headers = {\n",
    "    \"User-Agent\": \"Mozilla/5.0 (Windows NT 10.0; Win64; x64) AppleWebKit/537.36 (KHTML, like Gecko) Chrome/91.0.4472.124 Safari/537.36\"\n",
    "}"
   ]
  },
  {
   "cell_type": "code",
   "execution_count": 29,
   "metadata": {},
   "outputs": [],
   "source": [
    "response = requests.get(google_search_url, headers=headers)\n",
    "response.raise_for_status()\n",
    "soup = BeautifulSoup(response.text, \"html.parser\")\n",
    "# soup\n",
    "        "
   ]
  },
  {
   "cell_type": "code",
   "execution_count": 30,
   "metadata": {},
   "outputs": [
    {
     "data": {
      "text/plain": [
       "['here',\n",
       " 'Skip to main content',\n",
       " 'Accessibility help',\n",
       " 'Accessibility feedback',\n",
       " '',\n",
       " '',\n",
       " '',\n",
       " 'Sign in',\n",
       " 'All',\n",
       " 'Shopping',\n",
       " 'Images',\n",
       " 'Videos',\n",
       " 'Web',\n",
       " 'News',\n",
       " 'Maps',\n",
       " 'Wild & Sweet Bengals | Bengal Cat Breeder in North Americawildnsweetbengals.comhttps://wildnsweetbengals.com › ...',\n",
       " 'Bengal Kittens Available',\n",
       " 'Snow Bengal',\n",
       " 'Silver Bengal',\n",
       " 'Charcoal Bengal',\n",
       " 'Bengal Kittens for salethebengalcats.comhttps://www.thebengalcats.com',\n",
       " 'Belle Ami Bengals: Gorgeous Bengal CatsBelle Ami Bengalshttps://www.belleamibengals.com',\n",
       " 'Bengal Cats & Kittens for Sale',\n",
       " 'Snow Bengal Kittens For Sale',\n",
       " 'Bengal pricing',\n",
       " 'Bengal Kittens and Cats - Royal Bengal Cattery - Bengal Cats ...Royal Bengal Catteryhttps://www.royalbengalcattery.com',\n",
       " 'Bengal cat breeders Philadelphia | Bengal cat saleBengal Kittens Philadelphiahttps://kittens-bengal.com',\n",
       " 'Bengal Kittens & Cats for Sale Near Me | Wild & Sweet Bengalswildnsweetbengals.comhttps://wildnsweetbengals.com › bengal-kittens-for-sale',\n",
       " 'Snow Bengal',\n",
       " 'Silver Bengal',\n",
       " 'Melanistic Bengal',\n",
       " 'Charcoal Bengal',\n",
       " 'Bengals Of BamaBengals Of Bamahttps://bengalsofbama.com',\n",
       " 'HOME | Bengal Kittens | Sakura Bengals | United StatesSakura Bengalshttps://www.sakurabengals.com',\n",
       " 'Kittens',\n",
       " 'Coat development',\n",
       " 'Queens',\n",
       " 'Studs',\n",
       " 'Find Bengal Breeders in United StatesThe Bengal Connectionhttps://thebengalconnection.com › bengal-breeders › un...',\n",
       " \"Quality Bengal Kittens in CTBella's Bengalshttp://bellasbengals.com\",\n",
       " 'Bengal kittens for sale in united states price',\n",
       " 'Bengal kittens for sale $300',\n",
       " 'Blue bengal kittens for sale in united states',\n",
       " 'Bengal kittens for sale $500',\n",
       " 'Bengal kittens for sale near me',\n",
       " 'Bengal cats price',\n",
       " 'Snow Bengal kittens for sale',\n",
       " 'Bengal cats for sale NYC',\n",
       " '2',\n",
       " '3',\n",
       " '4',\n",
       " '5',\n",
       " '6',\n",
       " '7',\n",
       " '8',\n",
       " '9',\n",
       " '10',\n",
       " 'Next']"
      ]
     },
     "execution_count": 30,
     "metadata": {},
     "output_type": "execute_result"
    }
   ],
   "source": [
    "competitors = []\n",
    "for result in soup.select('a'):  # Using 'h3' to capture result titles\n",
    "        title = result.text\n",
    "        competitors.append(title)\n",
    "competitors"
   ]
  },
  {
   "cell_type": "code",
   "execution_count": 7,
   "metadata": {},
   "outputs": [
    {
     "ename": "NameError",
     "evalue": "name 'soup' is not defined",
     "output_type": "error",
     "traceback": [
      "\u001b[0;31m---------------------------------------------------------------------------\u001b[0m",
      "\u001b[0;31mNameError\u001b[0m                                 Traceback (most recent call last)",
      "Cell \u001b[0;32mIn[7], line 2\u001b[0m\n\u001b[1;32m      1\u001b[0m links \u001b[38;5;241m=\u001b[39m []\n\u001b[0;32m----> 2\u001b[0m \u001b[38;5;28;01mfor\u001b[39;00m result \u001b[38;5;129;01min\u001b[39;00m \u001b[43msoup\u001b[49m\u001b[38;5;241m.\u001b[39mselect(\u001b[38;5;124m'\u001b[39m\u001b[38;5;124ma\u001b[39m\u001b[38;5;124m'\u001b[39m):\n\u001b[1;32m      3\u001b[0m     href \u001b[38;5;241m=\u001b[39m result\u001b[38;5;241m.\u001b[39mget(\u001b[38;5;124m'\u001b[39m\u001b[38;5;124mhref\u001b[39m\u001b[38;5;124m'\u001b[39m)\n\u001b[1;32m      4\u001b[0m     \u001b[38;5;28;01mif\u001b[39;00m href \u001b[38;5;129;01mand\u001b[39;00m \u001b[38;5;124m'\u001b[39m\u001b[38;5;124mhttp\u001b[39m\u001b[38;5;124m'\u001b[39m \u001b[38;5;129;01min\u001b[39;00m href:\n",
      "\u001b[0;31mNameError\u001b[0m: name 'soup' is not defined"
     ]
    }
   ],
   "source": [
    "links = []\n",
    "for result in soup.select('a'):\n",
    "    href = result.get('href')\n",
    "    if href and 'http' in href:\n",
    "        links.append(href)\n",
    "links"
   ]
  },
  {
   "cell_type": "code",
   "execution_count": null,
   "metadata": {},
   "outputs": [],
   "source": []
  },
  {
   "cell_type": "code",
   "execution_count": 10,
   "metadata": {},
   "outputs": [],
   "source": [
    "base_url = \"https://www.google.com/search\"\n",
    "product = \"Bengal kittens\"\n",
    "location = \"United States\"\n",
    "queries = [f\"{product} in {location}\"]\n",
    "page_numbers = [0, 1]  # Adjust to the desired pages (start=0, start=10, start=20 for pages 1, 2, 3)\n",
    "\n",
    "all_links = []\n",
    "for start in page_numbers:\n",
    "    params = {'q': '+'.join(queries), 'start': start}\n",
    "    response = requests.get(base_url, params=params, headers=headers)\n",
    "    response.raise_for_status()\n",
    "    soup = BeautifulSoup(response.text, 'html.parser')\n",
    "\n",
    "    for result in soup.select('a'):\n",
    "        href = result.get('href')\n",
    "        if href and 'http' in href:\n",
    "            all_links.append(href)\n"
   ]
  },
  {
   "cell_type": "code",
   "execution_count": 12,
   "metadata": {},
   "outputs": [],
   "source": [
    "from urllib.parse import urlparse\n",
    "\n",
    "\n",
    "def clean_and_filter_urls(urls):\n",
    "    unique_urls = set()  # To store unique URLs\n",
    "    base_urls = []       # Final cleaned base URLs list\n",
    "\n",
    "    for url in urls:\n",
    "        parsed = urlparse(url)\n",
    "\n",
    "        # Ignore Google links\n",
    "        if 'google' in parsed.netloc:\n",
    "            continue\n",
    "\n",
    "        # Extract base URL\n",
    "        base_url = f\"{parsed.scheme}://{parsed.netloc}\"\n",
    "\n",
    "        # Add to unique URLs if not already present\n",
    "        if base_url not in unique_urls:\n",
    "            unique_urls.add(base_url)\n",
    "            base_urls.append(base_url)\n",
    "\n",
    "        # Stop when we have 5 unique URLs\n",
    "        if len(base_urls) == 5:\n",
    "            break\n",
    "\n",
    "    return base_urls\n",
    "\n",
    "\n"
   ]
  },
  {
   "cell_type": "code",
   "execution_count": 13,
   "metadata": {},
   "outputs": [
    {
     "name": "stdout",
     "output_type": "stream",
     "text": [
      "['https://www.royalbengalcattery.com', 'https://wildnsweetbengals.com', 'https://www.sakurabengals.com', 'https://kittens-bengal.com', 'https://bengalsofbama.com']\n"
     ]
    }
   ],
   "source": [
    "# Get cleaned and filtered URLs\n",
    "unique_base_urls = clean_and_filter_urls(all_links)\n",
    "print(unique_base_urls)"
   ]
  },
  {
   "cell_type": "code",
   "execution_count": 11,
   "metadata": {},
   "outputs": [
    {
     "data": {
      "text/plain": [
       "['https://support.google.com/websearch/answer/181196?hl=en-IN',\n",
       " 'https://www.google.com/webhp?hl=en&sa=X&ved=0ahUKEwjp9tPQxNeKAxWsTGcHHVrqKfcQPAgI',\n",
       " 'https://www.google.com/webhp?hl=en&ictx=0&sa=X&ved=0ahUKEwjp9tPQxNeKAxWsTGcHHVrqKfcQpYkNCAo',\n",
       " 'https://www.google.co.in/intl/en/about/products?tab=wh',\n",
       " 'https://accounts.google.com/ServiceLogin?hl=en&passive=true&continue=https://www.google.com/search%3Fq%3DBengal%2Bkittens%2Bin%2BUnited%2BStates%26start%3D0&ec=GAZAAQ',\n",
       " 'https://maps.google.com/maps?sca_esv=d46ad9e90e5d3acb&output=search&q=Bengal+kittens+in+United+States&source=lnms&fbs=AEQNm0DvD4UMlvdpwktgGj2ZHhIXAIHy0lF5HBdT5py_0SmcDRj-ZcG8sN4MPTI25WFYis4wl2w2HABIwzHTNHgs0XyvwBQ326rTyYqJYbg_1X6pmt2OKPouyxEdwTCL9hsaApO3FRLbqtkj9tDfgnXKaUvRe7AGx_xdZ-OvZau2lFn-u1kTzfVBNQnpFLBtYqyr8ThTATosP7fshT1I2Y9qykLFrVsXeA&entry=mc&ved=1t:200715&ictx=111',\n",
       " 'https://www.royalbengalcattery.com/',\n",
       " 'https://www.royalbengalcattery.com/',\n",
       " 'https://wildnsweetbengals.com/en/',\n",
       " 'https://wildnsweetbengals.com/en/',\n",
       " 'https://wildnsweetbengals.com/en/bengal-kittens-for-sale/',\n",
       " 'https://wildnsweetbengals.com/en/bengal-kittens-for-sale/snow-bengal-cat/',\n",
       " 'https://wildnsweetbengals.com/en/bengal-kittens-for-sale/silver-bengal-cat/',\n",
       " 'https://wildnsweetbengals.com/en/bengal-kittens-for-sale/charcoal-bengal-cat/',\n",
       " 'https://www.sakurabengals.com/',\n",
       " 'https://www.sakurabengals.com/',\n",
       " 'https://kittens-bengal.com/',\n",
       " 'https://kittens-bengal.com/',\n",
       " 'https://bengalsofbama.com/?srsltid=AfmBOorDmMSCh1rEEjgu17rXzHi7uF_TEOVX1vEM1F7-X1jjKjKniIPG',\n",
       " 'https://bengalsofbama.com/?srsltid=AfmBOorDmMSCh1rEEjgu17rXzHi7uF_TEOVX1vEM1F7-X1jjKjKniIPG',\n",
       " 'https://www.thebestbengal.com/',\n",
       " 'https://www.thebestbengal.com/',\n",
       " 'https://www.thebengalcats.com/?srsltid=AfmBOopf0-CEl4LCgLCo9GRhhQ0S4Xpcp-bMJS5NpcWUu5mZfpHrh-15',\n",
       " 'https://www.thebengalcats.com/?srsltid=AfmBOopf0-CEl4LCgLCo9GRhhQ0S4Xpcp-bMJS5NpcWUu5mZfpHrh-15',\n",
       " 'https://en.wikipedia.org/wiki/Bengal_cat',\n",
       " 'https://en.wikipedia.org/wiki/Bengal_cat',\n",
       " 'https://en.wikipedia.org/wiki/Bengal_cat',\n",
       " 'https://www.tikkaskybengals.com/',\n",
       " 'https://www.tikkaskybengals.com/',\n",
       " 'https://www.tikkaskybengals.com/bengalkittensavailable',\n",
       " 'https://www.tikkaskybengals.com/about-the-bengal-cat',\n",
       " 'https://www.tikkaskybengals.com/kitten-pricing',\n",
       " 'https://www.tikkaskybengals.com/bringing-a-kitten-home',\n",
       " 'https://thebengalconnection.com/bengal-breeders/united-states/',\n",
       " 'https://thebengalconnection.com/bengal-breeders/united-states/',\n",
       " 'https://www.wildlifebengals.com/',\n",
       " 'https://www.wildlifebengals.com/available-kittens.html',\n",
       " 'https://www.wildlifebengals.com/abyssinian-kittens.html',\n",
       " 'https://www.wildlifebengals.com/gallery.html',\n",
       " 'https://www.wildlifebengals.com/aby-queens-studs.html',\n",
       " 'https://support.google.com/websearch/answer/181196?hl=en-IN',\n",
       " 'https://www.google.com/webhp?hl=en&sa=X&ved=0ahUKEwiq5YvRxNeKAxW_SWwGHT-RDAQ4ARA8CAg',\n",
       " 'https://www.google.com/webhp?hl=en&ictx=0&sa=X&ved=0ahUKEwiq5YvRxNeKAxW_SWwGHT-RDAQ4ARCliQ0ICg',\n",
       " 'https://www.google.co.in/intl/en/about/products?tab=wh',\n",
       " 'https://accounts.google.com/ServiceLogin?hl=en&passive=true&continue=https://www.google.com/search%3Fq%3DBengal%2Bkittens%2Bin%2BUnited%2BStates%26start%3D1&ec=GAZAAQ',\n",
       " 'https://maps.google.com/maps?sca_esv=d46ad9e90e5d3acb&output=search&q=Bengal+kittens+in+United+States&source=lnms&fbs=AEQNm0DvD4UMlvdpwktgGj2ZHhIXAIHy0lF5HBdT5py_0SmcDRj-ZcG8sN4MPTI25WFYis4wl2w2HABIwzHTNHgs0XyvwBQ326rTyYqJYbg_1X6pmt2OKPouyxEdwTCL9hsaApO3FRLbqtkj9tDfgnXKaUvRe7AGx_xdZ-OvZau2lFn-u1kTzfVBNQnpFLBtYqyr8ThTATosP7fshT1I2Y9qykLFrVsXeA&entry=mc&ved=1t:200715&ictx=111',\n",
       " 'https://wildnsweetbengals.com/en/',\n",
       " 'https://www.sakurabengals.com/',\n",
       " 'https://kittens-bengal.com/',\n",
       " 'https://bengalsofbama.com/?srsltid=AfmBOoo1cxc4DtXT3fVcWxHdiiZPR2mAhXROja7D5ZMlTJ-wlTZ8x9k0',\n",
       " 'https://www.thebestbengal.com/',\n",
       " 'https://www.thebengalcats.com/?srsltid=AfmBOopEvE49D-SWTefwK4qMzrL3MWJS22wo7uEkfmMLXaworES8jIzX',\n",
       " 'https://www.tikkaskybengals.com/',\n",
       " 'https://thebengalconnection.com/bengal-breeders/united-states/',\n",
       " 'https://www.wildlifebengals.com/',\n",
       " 'https://www.sakurabengals.com/our-cattery']"
      ]
     },
     "execution_count": 11,
     "metadata": {},
     "output_type": "execute_result"
    }
   ],
   "source": [
    "all_links"
   ]
  }
 ],
 "metadata": {
  "kernelspec": {
   "display_name": "Python 3",
   "language": "python",
   "name": "python3"
  },
  "language_info": {
   "codemirror_mode": {
    "name": "ipython",
    "version": 3
   },
   "file_extension": ".py",
   "mimetype": "text/x-python",
   "name": "python",
   "nbconvert_exporter": "python",
   "pygments_lexer": "ipython3",
   "version": "3.10.12"
  }
 },
 "nbformat": 4,
 "nbformat_minor": 2
}
