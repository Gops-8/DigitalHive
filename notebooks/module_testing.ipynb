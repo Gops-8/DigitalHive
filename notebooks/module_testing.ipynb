{
 "cells": [
  {
   "cell_type": "code",
   "execution_count": 17,
   "metadata": {},
   "outputs": [
    {
     "name": "stdout",
     "output_type": "stream",
     "text": [
      "The autoreload extension is already loaded. To reload it, use:\n",
      "  %reload_ext autoreload\n"
     ]
    }
   ],
   "source": [
    "%load_ext autoreload\n",
    "%autoreload 2 "
   ]
  },
  {
   "cell_type": "code",
   "execution_count": 18,
   "metadata": {},
   "outputs": [],
   "source": [
    "import os\n",
    "os.chdir('/home/gops/work/DigitalHive')"
   ]
  },
  {
   "cell_type": "code",
   "execution_count": 19,
   "metadata": {},
   "outputs": [],
   "source": [
    "import sys\n",
    "import os\n",
    "import pandas as pd\n",
    "import datetime \n",
    "from src.core.scraper import WebScraper\n",
    "from src.core.content_analyzer import ContentAnalyzer\n",
    "from src.core.data_processer import DataProcessor\n",
    "from src.utils.components import Components\n",
    "from src.utils.auth import AuthManager\n",
    "from src.core.advanced_analytics import AdvancedAnalytics\n",
    "from src.utils.cache import AnalysisCache\n",
    "from src.utils.scraper import Enc"
   ]
  },
  {
   "cell_type": "code",
   "execution_count": 20,
   "metadata": {},
   "outputs": [],
   "source": [
    "data_processor = DataProcessor()\n",
    "scrapper=WebScraper()\n",
    "analyzer = ContentAnalyzer()\n",
    "analytics= AdvancedAnalytics()\n",
    "cache = AnalysisCache()"
   ]
  },
  {
   "cell_type": "code",
   "execution_count": null,
   "metadata": {},
   "outputs": [],
   "source": []
  },
  {
   "cell_type": "code",
   "execution_count": 21,
   "metadata": {},
   "outputs": [],
   "source": [
    "urls=data_processor.read_excel_to_url(file_path='/home/gops/work/DigitalHive/input/test.xlsx')"
   ]
  },
  {
   "cell_type": "code",
   "execution_count": 22,
   "metadata": {},
   "outputs": [
    {
     "data": {
      "text/plain": [
       "'peachstatecandlesupply.com'"
      ]
     },
     "execution_count": 22,
     "metadata": {},
     "output_type": "execute_result"
    }
   ],
   "source": [
    "# urls=urls[0:1]\n",
    "url=urls[18]\n",
    "url"
   ]
  },
  {
   "cell_type": "code",
   "execution_count": 30,
   "metadata": {},
   "outputs": [],
   "source": [
    "clean_url=data_processor.clean_url(url)\n",
    "clean_url='as '"
   ]
  },
  {
   "cell_type": "code",
   "execution_count": 31,
   "metadata": {},
   "outputs": [],
   "source": [
    "cached_data = cache.get(clean_url)\n",
    "cached_data"
   ]
  },
  {
   "cell_type": "code",
   "execution_count": 32,
   "metadata": {},
   "outputs": [],
   "source": [
    "cached_data"
   ]
  },
  {
   "cell_type": "code",
   "execution_count": 26,
   "metadata": {},
   "outputs": [
    {
     "data": {
      "text/plain": [
       "{'content': 'Our current lead times are 2-4 business days Free shipping on Fragrance oil orders over $100 (Lower 48) Our current lead times are 2-4 business days Free shipping on Fragrance oil orders over $100 (Lower 48) Our current lead times are 2-4 business days Free shipping on Fragrance oil orders over $100 (Lower 48) Our current lead times are 2-4 business days Free shipping on Fragrance oil orders over $100 (Lower 48) Our current lead times are 2-4 business days Free shipping on Fragrance oil orders over $100 (Lower 48) Submit login Open cart 0 $0.00 (0) Open menu Open cart Open cart0 Home Candle Making Supplies Fragrance Oils About us Rewards Program Earn Points!Need Help? Click Here To Chat Submit Menu Close sidebar Home Candle Making Supplies Fragrance Oils About us Account Facebook Instagram Country/region United States (USD $) Submit login Open cart 0 $0.00 (0) Open menu Open cart Open cart0 Submit login Open cart 0 $0.00 (0) Open menu Open cart Open cart0 Submit login Open cart 0 $0.00 (0) Submit Home Candle Making Supplies Fragrance Oils About us Rewards Program Earn Points!Need Help? Click Here To Chat Home Candle Making Supplies Fragrance Oils About us Rewards Program Earn Points!Need Help? Click Here To Chat Home Candle Making Supplies Fragrance Oils About us Home Candle Making Supplies Fragrance Oils About us Rewards Program Earn Points!Need Help? Click Here To Chat Rewards Program Earn Points! Need Help? Click Here To Chat Submit Submit Menu Close sidebar Home Candle Making Supplies Fragrance Oils About us Account Home Candle Making Supplies Fragrance Oils About us Account Home Candle Making Supplies Fragrance Oils About us Account Facebook Instagram Country/region United States (USD $) Facebook Instagram NEW FALL 2024 FRAGRANCE OILS!Shop NowPick For This Season Room Spray/Body Spray Base (Alcohol Based)$7.50Shop Now All Purpose Cleaner Base$6.50Shop Now Perfume Base$10.50Shop Now Concentrated Mop Soap Base$5.00Shop Now Reed/Electric Diffuser Base$10.50Shop Now1Create Your Own Home Products Concentrated Mop Soap Base$5.00Shop Now Leather & Brandy$3.25Shop Now Lakeside Morning$3.25Shop Now Champagne Apple & Honey$3.50Shop NowLearn MoreLet customers speak for us“I have been using this base for a while now and I am more than pleased. The quality is the same every”ELNORA STJEAN“I have been using this base for a while now and I am more than pleased. The quality is the same every”ELNORA STJEAN“I have been using this base for a while now and I am more than pleased. The quality is the same every”ELNORA STJEAN“I have been using this base for a while now and I am more than pleased. The quality is the same every”ELNORA STJEANPEACH STATE CANDLE SUPPLY | FAIREPeople buy our liquid bases to make their own room sprays and diffuser oilsUS$100 off your first order* 1 year of free shipping* Buy now, pay 60 days later Free returns on your first order*Available for retailers who are new to Faire Learn MoreWholesale Candle Making SuppliesCandle making supplies are the essential items you need to create your own candles at home. They include candle making wax, wicks, candle making fragrance oils, colorants, candle making jars, and accessories. Candle making supplies can help you unleash your creativity and make candles that suit your style, mood, and occasion. Whether you want to make candles for yourself, as gifts, or as a business, you can find a variety of candle making supplies online or in stores.Some of the benefits of using candle making supplies are:You can customize your candles according to your preferences. You can choose the type of candle making wax, the scent, the color, and the shape of your candles. You can also add embellishments, such as glitter, dried flowers, or crystals, to make your candles more unique and attractive.You can save money and reduce waste by making your own candles. Buying ready-made candles can be expensive and wasteful, especially if you don’t like the scent or the quality. By making your own candles, you can use the exact amount of wax and fragrance oils you need, and reuse or recycle the containers.You can have fun and relax by making your own candles. Candle making is a rewarding and enjoyable hobby that can help you relieve stress and express yourself. You can also make candles with your friends or family and share the experience.If you are looking for high-quality candle making supplies at affordable wholesale prices, you can check out our a company that offers everything you need to create your own candles. They also provide online tutorials, tips, and trends to help you with your candle making journey. Visit our store today and discover the joy of candle making with Peach State Candle Supply.Blog postsView AllAbout Us | Peach State Candle Supply Oct 15, 2022 Candle Making: A Fun and Rewarding Hobby Aug 08, 2023 Exploring the World of Candle Making: A Comprehensive Guide to Supplies and Techniques Oct 12, 2023 Finding potential retailers for your wholesale candle business Jan 27, 2024 NEW FALL 2024 FRAGRANCE OILS!Shop NowPick For This Season Room Spray/Body Spray Base (Alcohol Based)$7.50Shop Now All Purpose Cleaner Base$6.50Shop Now Perfume Base$10.50Shop Now Concentrated Mop Soap Base$5.00Shop Now Reed/Electric Diffuser Base$10.50Shop Now1Create Your Own Home Products Concentrated Mop Soap Base$5.00Shop Now Leather & Brandy$3.25Shop Now Lakeside Morning$3.25Shop Now Champagne Apple & Honey$3.50Shop NowLearn MoreLet customers speak for us“I have been using this base for a while now and I am more than pleased. The quality is the same every”ELNORA STJEAN“I have been using this base for a while now and I am more than pleased. The quality is the same every”ELNORA STJEAN“I have been using this base for a while now and I am more than pleased. The quality is the same every”ELNORA STJEAN“I have been using this base for a while now and I am more than pleased. The quality is the same every”ELNORA STJEANPEACH STATE CANDLE SUPPLY | FAIREPeople buy our liquid bases to make their own room sprays and diffuser oilsUS$100 off your first order* 1 year of free shipping* Buy now, pay 60 days later Free returns on your first order*Available for retailers who are new to Faire Learn MoreWholesale Candle Making SuppliesCandle making supplies are the essential items you need to create your own candles at home. They include candle making wax, wicks, candle making fragrance oils, colorants, candle making jars, and accessories. Candle making supplies can help you unleash your creativity and make candles that suit your style, mood, and occasion. Whether you want to make candles for yourself, as gifts, or as a business, you can find a variety of candle making supplies online or in stores.Some of the benefits of using candle making supplies are:You can customize your candles according to your preferences. You can choose the type of candle making wax, the scent, the color, and the shape of your candles. You can also add embellishments, such as glitter, dried flowers, or crystals, to make your candles more unique and attractive.You can save money and reduce waste by making your own candles. Buying ready-made candles can be expensive and wasteful, especially if you don’t like the scent or the quality. By making your own candles, you can use the exact amount of wax and fragrance oils you need, and reuse or recycle the containers.You can have fun and relax by making your own candles. Candle making is a rewarding and enjoyable hobby that can help you relieve stress and express yourself. You can also make candles with your friends or family and share the experience.If you are looking for high-quality candle making supplies at affordable wholesale prices, you can check out our a company that offers everything you need to create your own candles. They also provide online tutorials, tips, and trends to help you with your candle making journey. Visit our store today and discover the joy of candle making with Peach State Candle Supply.Blog postsView AllAbout Us | Peach State Candle Supply Oct 15, 2022 Candle Making: A Fun and Rewarding Hobby Aug 08, 2023 Exploring the World of Candle Making: A Comprehensive Guide to Supplies and Techniques Oct 12, 2023 Finding potential retailers for your wholesale candle business Jan 27, 2024 NEW FALL 2024 FRAGRANCE OILS!Shop NowPick For This Season Room Spray/Body Spray Base (Alcohol Based)$7.50Shop Now All Purpose Cleaner Base$6.50Shop Now Perfume Base$10.50Shop Now Concentrated Mop Soap Base$5.00Shop Now Reed/Electric Diffuser Base$10.50Shop Now1Create Your Own Home Products Concentrated Mop Soap Base$5.00Shop Now Leather & Brandy$3.25Shop Now Lakeside Morning$3.25Shop Now Champagne Apple & Honey$3.50Shop NowLearn MoreLet customers speak for us“I have been using this base for a while now and I am more than pleased. The quality is the same every”ELNORA STJEAN“I have been using this base for a while now and I am more than pleased. The quality is the same every”ELNORA STJEAN“I have been using this base for a while now and I am more than pleased. The quality is the same every”ELNORA STJEAN“I have been using this base for a while now and I am more than pleased. The quality is the same every”ELNORA STJEANPEACH STATE CANDLE SUPPLY | FAIREPeople buy our liquid bases to make their own room sprays and diffuser oilsUS$100 off your first order* 1 year of free shipping* Buy now, pay 60 days later Free returns on your first order*Available for retailers who are new to Faire Learn MoreWholesale Candle Making SuppliesCandle making supplies are the essential items you need to create your own candles at home. They include candle making wax, wicks, candle making fragrance oils, colorants, candle making jars, and accessories. Candle making supplies can help you unleash your creativity and make candles that suit your style, mood, and occasion. Whether you want to make candles for yourself, as gifts, or as a business, you can find a variety of candle making supplies online or in stores.Some of the benefits of using candle making supplies are:You can customize your candles according to your preferences. You can choose the type of candle making wax, the scent, the color, and the shape of your candles. You can also add embellishments, such as glitter, dried flowers, or crystals, to make your candles more unique and attractive.You can save money and reduce waste by making your own candles. Buying ready-made candles can be expensive and wasteful, especially if you don’t like the scent or the quality. By making your own candles, you can use the exact amount of wax and fragrance oils you need, and reuse or recycle the containers.You can have fun and relax by making your own candles. Candle making is a rewarding and enjoyable hobby that can help you relieve stress and express yourself. You can also make candles with your friends or family and share the experience.If you are looking for high-quality candle making supplies at affordable wholesale prices, you can check out our a company that offers everything you need to create your own candles. They also provide online tutorials, tips, and trends to help you with your candle making journey. Visit our store today and discover the joy of candle making with Peach State Candle Supply.Blog postsView AllAbout Us | Peach State Candle Supply Oct 15, 2022 Candle Making: A Fun and Rewarding Hobby Aug 08, 2023 Exploring the World of Candle Making: A Comprehensive Guide to Supplies and Techniques Oct 12, 2023 Finding potential retailers for your wholesale candle business Jan 27, 2024 NEW FALL 2024 FRAGRANCE OILS!Shop NowPick For This Season Room Spray/Body Spray Base (Alcohol Based)$7.50Shop Now All Purpose Cleaner Base$6.50Shop Now Perfume Base$10.50Shop Now Concentrated Mop Soap Base$5.00Shop Now Reed/Electric Diffuser Base$10.50Shop Now1Create Your Own Home Products Concentrated Mop Soap Base$5.00Shop Now Leather & Brandy$3.25Shop Now Lakeside Morning$3.25Shop Now Champagne Apple & Honey$3.50Shop NowLearn MoreLet customers speak for us“I have been using this base for a while now and I am more than pleased. The quality is the same every”ELNORA STJEAN“I have been using this base for a while now and I am more than pleased. The quality is the same every”ELNORA STJEAN“I have been using this base for a while now and I am more than pleased. The quality is the same every”ELNORA STJEAN“I have been using this base for a while now and I am more than pleased. The quality is the same every”ELNORA STJEANPEACH STATE CANDLE SUPPLY | FAIREPeople buy our liquid bases to make their own room sprays and diffuser oilsUS$100 off your first order* 1 year of free shipping* Buy now, pay 60 days later Free returns on your first order*Available for retailers who are new to Faire Learn MoreWholesale Candle Making SuppliesCandle making supplies are the essential items you need to create your own candles at home. They include candle making wax, wicks, candle making fragrance oils, colorants, candle making jars, and accessories. Candle making supplies can help you unleash your creativity and make candles that suit your style, mood, and occasion. Whether you want to make candles for yourself, as gifts, or as a business, you can find a variety of candle making supplies online or in stores.Some of the benefits of using candle making supplies are:You can customize your candles according to your preferences. You can choose the type of candle making wax, the scent, the color, and the shape of your candles. You can also add embellishments, such as glitter, dried flowers, or crystals, to make your candles more unique and attractive.You can save money and reduce waste by making your own candles. Buying ready-made candles can be expensive and wasteful, especially if you don’t like the scent or the quality. By making your own candles, you can use the exact amount of wax and fragrance oils you need, and reuse or recycle the containers.You can have fun and relax by making your own candles. Candle making is a rewarding and enjoyable hobby that can help you relieve stress and express yourself. You can also make candles with your friends or family and share the experience.If you are looking for high-quality candle making supplies at affordable wholesale prices, you can check out our a company that offers everything you need to create your own candles. They also provide online tutorials, tips, and trends to help you with your candle making journey. Visit our store today and discover the joy of candle making with Peach State Candle Supply.Blog postsView AllAbout Us | Peach State Candle Supply Oct 15, 2022 Candle Making: A Fun and Rewarding Hobby Aug 08, 2023 Exploring the World of Candle Making: A Comprehensive Guide to Supplies and Techniques Oct 12, 2023 Finding potential retailers for your wholesale candle business Jan 27, 2024 NEW FALL 2024 FRAGRANCE OILS!Shop Now NEW FALL 2024 FRAGRANCE OILS!Shop Now NEW FALL 2024 FRAGRANCE OILS!Shop Now NEW FALL 2024 FRAGRANCE OILS!Shop Now NEW FALL 2024 FRAGRANCE OILS!Shop Now NEW FALL 2024 FRAGRANCE OILS!Shop Now NEW FALL 2024 FRAGRANCE OILS!Shop Now NEW FALL 2024 FRAGRANCE OILS!Shop Now NEW FALL 2024 FRAGRANCE OILS!Shop Now NEW FALL 2024 FRAGRANCE OILS!Shop Now NEW FALL 2024 FRAGRANCE OILS!Shop Now NEW FALL 2024 FRAGRANCE OILS!Shop Now NEW FALL 2024 FRAGRANCE OILS! Pick For This Season Room Spray/Body Spray Base (Alcohol Based)$7.50Shop Now All Purpose Cleaner Base$6.50Shop Now Perfume Base$10.50Shop Now Concentrated Mop Soap Base$5.00Shop Now Reed/Electric Diffuser Base$10.50Shop Now1 Pick For This Season Room Spray/Body Spray Base (Alcohol Based)$7.50Shop Now All Purpose Cleaner Base$6.50Shop Now Perfume Base$10.50Shop Now Concentrated Mop Soap Base$5.00Shop Now Reed/Electric Diffuser Base$10.50Shop Now1 Pick For This Season Pick For This Season Pick For This Season Pick For This Season Room Spray/Body Spray Base (Alcohol Based)$7.50Shop Now All Purpose Cleaner Base$6.50Shop Now Perfume Base$10.50Shop Now Concentrated Mop Soap Base$5.00Shop Now Reed/Electric Diffuser Base$10.50Shop Now1 Room Spray/Body Spray Base (Alcohol Based)$7.50Shop Now All Purpose Cleaner Base$6.50Shop Now Perfume Base$10.50Shop Now Concentrated Mop Soap Base$5.00Shop Now Reed/Electric Diffuser Base$10.50Shop Now1 Room Spray/Body Spray Base (Alcohol Based)$7.50Shop Now All Purpose Cleaner Base$6.50Shop Now Perfume Base$10.50Shop Now Concentrated Mop Soap Base$5.00Shop Now Reed/Electric Diffuser Base$10.50Shop Now1 Room Spray/Body Spray Base (Alcohol Based)$7.50Shop Now All Purpose Cleaner Base$6.50Shop Now Perfume Base$10.50Shop Now Concentrated Mop Soap Base$5.00Shop Now Reed/Electric Diffuser Base$10.50Shop Now1 Room Spray/Body Spray Base (Alcohol Based)$7.50Shop Now All Purpose Cleaner Base$6.50Shop Now Perfume Base$10.50Shop Now Concentrated Mop Soap Base$5.00Shop Now Reed/Electric Diffuser Base$10.50Shop Now1 Room Spray/Body Spray Base (Alcohol Based)$7.50Shop Now Room Spray/Body Spray Base (Alcohol Based)$7.50Shop Now Room Spray/Body Spray Base (Alcohol Based)$7.50Shop Now Room Spray/Body Spray Base (Alcohol Based)$7.50Shop Now Room Spray/Body Spray Base (Alcohol Based)$7.50Shop Now Room Spray/Body Spray Base (Alcohol Based) $7.50 $7.50 All Purpose Cleaner Base$6.50Shop Now All Purpose Cleaner Base$6.50Shop Now All Purpose Cleaner Base$6.50Shop Now All Purpose Cleaner Base$6.50Shop Now All Purpose Cleaner Base$6.50Shop Now All Purpose Cleaner Base $6.50 $6.50 Perfume Base$10.50Shop Now Perfume Base$10.50Shop Now Perfume Base$10.50Shop Now Perfume Base$10.50Shop Now Perfume Base$10.50Shop Now Perfume Base $10.50 $10.50 Concentrated Mop Soap Base$5.00Shop Now Concentrated Mop Soap Base$5.00Shop Now Concentrated Mop Soap Base$5.00Shop Now Concentrated Mop Soap Base$5.00Shop Now Concentrated Mop Soap Base$5.00Shop Now Concentrated Mop Soap Base $5.00 $5.00 Reed/Electric Diffuser Base$10.50Shop Now Reed/Electric Diffuser Base$10.50Shop Now Reed/Electric Diffuser Base$10.50Shop Now Reed/Electric Diffuser Base$10.50Shop Now Reed/Electric Diffuser Base$10.50Shop Now Reed/Electric Diffuser Base $10.50 $10.50 1 Create Your Own Home Products Concentrated Mop Soap Base$5.00Shop Now Leather & Brandy$3.25Shop Now Lakeside Morning$3.25Shop Now Champagne Apple & Honey$3.50Shop NowLearn More Create Your Own Home Products Concentrated Mop Soap Base$5.00Shop Now Leather & Brandy$3.25Shop Now Lakeside Morning$3.25Shop Now Champagne Apple & Honey$3.50Shop NowLearn More Create Your Own Home Products Create Your Own Home Products Create Your Own Home Products Create Your Own Home Products Concentrated Mop Soap Base$5.00Shop Now Leather & Brandy$3.25Shop Now Lakeside Morning$3.25Shop Now Champagne Apple & Honey$3.50Shop NowLearn More Concentrated Mop Soap Base$5.00Shop Now Leather & Brandy$3.25Shop Now Lakeside Morning$3.25Shop Now Champagne Apple & Honey$3.50Shop Now Concentrated Mop Soap Base$5.00Shop Now Leather & Brandy$3.25Shop Now Lakeside Morning$3.25Shop Now Champagne Apple & Honey$3.50Shop Now Concentrated Mop Soap Base$5.00Shop Now Leather & Brandy$3.25Shop Now Lakeside Morning$3.25Shop Now Champagne Apple & Honey$3.50Shop Now Concentrated Mop Soap Base$5.00Shop Now Leather & Brandy$3.25Shop Now Lakeside Morning$3.25Shop Now Champagne Apple & Honey$3.50Shop Now Concentrated Mop Soap Base$5.00Shop Now Concentrated Mop Soap Base$5.00Shop Now Concentrated Mop Soap Base$5.00Shop Now Concentrated Mop Soap Base$5.00Shop Now Concentrated Mop Soap Base$5.00Shop Now Concentrated Mop Soap Base $5.00 $5.00 Leather & Brandy$3.25Shop Now Leather & Brandy$3.25Shop Now Leather & Brandy$3.25Shop Now Leather & Brandy$3.25Shop Now Leather & Brandy$3.25Shop Now Leather & Brandy $3.25 $3.25 Lakeside Morning$3.25Shop Now Lakeside Morning$3.25Shop Now Lakeside Morning$3.25Shop Now Lakeside Morning$3.25Shop Now Lakeside Morning$3.25Shop Now Lakeside Morning $3.25 $3.25 Champagne Apple & Honey$3.50Shop Now Champagne Apple & Honey$3.50Shop Now Champagne Apple & Honey$3.50Shop Now Champagne Apple & Honey$3.50Shop Now Champagne Apple & Honey$3.50Shop Now Champagne Apple & Honey $3.50 $3.50 Learn More Learn More Let customers speak for us“I have been using this base for a while now and I am more than pleased. The quality is the same every”ELNORA STJEAN“I have been using this base for a while now and I am more than pleased. The quality is the same every”ELNORA STJEAN“I have been using this base for a while now and I am more than pleased. The quality is the same every”ELNORA STJEAN“I have been using this base for a while now and I am more than pleased. The quality is the same every”ELNORA STJEAN Let customers speak for us“I have been using this base for a while now and I am more than pleased. The quality is the same every”ELNORA STJEAN“I have been using this base for a while now and I am more than pleased. The quality is the same every”ELNORA STJEAN“I have been using this base for a while now and I am more than pleased. The quality is the same every”ELNORA STJEAN“I have been using this base for a while now and I am more than pleased. The quality is the same every”ELNORA STJEAN Let customers speak for us Let customers speak for us Let customers speak for us Let customers speak for us “I have been using this base for a while now and I am more than pleased. The quality is the same every”ELNORA STJEAN“I have been using this base for a while now and I am more than pleased. The quality is the same every”ELNORA STJEAN“I have been using this base for a while now and I am more than pleased. The quality is the same every”ELNORA STJEAN“I have been using this base for a while now and I am more than pleased. The quality is the same every”ELNORA STJEAN “I have been using this base for a while now and I am more than pleased. The quality is the same every”ELNORA STJEAN“I have been using this base for a while now and I am more than pleased. The quality is the same every”ELNORA STJEAN“I have been using this base for a while now and I am more than pleased. The quality is the same every”ELNORA STJEAN“I have been using this base for a while now and I am more than pleased. The quality is the same every”ELNORA STJEAN “I have been using this base for a while now and I am more than pleased. The quality is the same every”ELNORA STJEAN“I have been using this base for a while now and I am more than pleased. The quality is the same every”ELNORA STJEAN“I have been using this base for a while now and I am more than pleased. The quality is the same every”ELNORA STJEAN“I have been using this base for a while now and I am more than pleased. The quality is the same every”ELNORA STJEAN “I have been using this base for a while now and I am more than pleased. The quality is the same every”ELNORA STJEAN“I have been using this base for a while now and I am more than pleased. The quality is the same every”ELNORA STJEAN“I have been using this base for a while now and I am more than pleased. The quality is the same every”ELNORA STJEAN“I have been using this base for a while now and I am more than pleased. The quality is the same every”ELNORA STJEAN “I have been using this base for a while now and I am more than pleased. The quality is the same every”ELNORA STJEAN“I have been using this base for a while now and I am more than pleased. The quality is the same every”ELNORA STJEAN“I have been using this base for a while now and I am more than pleased. The quality is the same every”ELNORA STJEAN“I have been using this base for a while now and I am more than pleased. The quality is the same every”ELNORA STJEAN “I have been using this base for a while now and I am more than pleased. The quality is the same every”ELNORA STJEAN “I have been using this base for a while now and I am more than pleased. The quality is the same every”ELNORA STJEAN “I have been using this base for a while now and I am more than pleased. The quality is the same every”ELNORA STJEAN “I have been using this base for a while now and I am more than pleased. The quality is the same every”ELNORA STJEAN “I have been using this base for a while now and I am more than pleased. The quality is the same every”ELNORA STJEAN “I have been using this base for a while now and I am more than pleased. The quality is the same every” ELNORA STJEAN “I have been using this base for a while now and I am more than pleased. The quality is the same every”ELNORA STJEAN “I have been using this base for a while now and I am more than pleased. The quality is the same every”ELNORA STJEAN “I have been using this base for a while now and I am more than pleased. The quality is the same every”ELNORA STJEAN “I have been using this base for a while now and I am more than pleased. The quality is the same every”ELNORA STJEAN “I have been using this base for a while now and I am more than pleased. The quality is the same every”ELNORA STJEAN “I have been using this base for a while now and I am more than pleased. The quality is the same every” ELNORA STJEAN “I have been using this base for a while now and I am more than pleased. The quality is the same every”ELNORA STJEAN “I have been using this base for a while now and I am more than pleased. The quality is the same every”ELNORA STJEAN “I have been using this base for a while now and I am more than pleased. The quality is the same every”ELNORA STJEAN “I have been using this base for a while now and I am more than pleased. The quality is the same every”ELNORA STJEAN “I have been using this base for a while now and I am more than pleased. The quality is the same every”ELNORA STJEAN “I have been using this base for a while now and I am more than pleased. The quality is the same every” ELNORA STJEAN “I have been using this base for a while now and I am more than pleased. The quality is the same every”ELNORA STJEAN “I have been using this base for a while now and I am more than pleased. The quality is the same every”ELNORA STJEAN “I have been using this base for a while now and I am more than pleased. The quality is the same every”ELNORA STJEAN “I have been using this base for a while now and I am more than pleased. The quality is the same every”ELNORA STJEAN “I have been using this base for a while now and I am more than pleased. The quality is the same every”ELNORA STJEAN “I have been using this base for a while now and I am more than pleased. The quality is the same every” ELNORA STJEAN PEACH STATE CANDLE SUPPLY | FAIREPeople buy our liquid bases to make their own room sprays and diffuser oilsUS$100 off your first order* 1 year of free shipping* Buy now, pay 60 days later Free returns on your first order*Available for retailers who are new to Faire Learn More PEACH STATE CANDLE SUPPLY | FAIREPeople buy our liquid bases to make their own room sprays and diffuser oilsUS$100 off your first order* 1 year of free shipping* Buy now, pay 60 days later Free returns on your first order*Available for retailers who are new to Faire Learn More PEACH STATE CANDLE SUPPLY | FAIREPeople buy our liquid bases to make their own room sprays and diffuser oilsUS$100 off your first order* 1 year of free shipping* Buy now, pay 60 days later Free returns on your first order*Available for retailers who are new to Faire Learn More PEACH STATE CANDLE SUPPLY | FAIREPeople buy our liquid bases to make their own room sprays and diffuser oilsUS$100 off your first order* 1 year of free shipping* Buy now, pay 60 days later Free returns on your first order*Available for retailers who are new to Faire Learn More PEACH STATE CANDLE SUPPLY | FAIREPeople buy our liquid bases to make their own room sprays and diffuser oilsUS$100 off your first order* 1 year of free shipping* Buy now, pay 60 days later Free returns on your first order*Available for retailers who are new to Faire Learn More PEACH STATE CANDLE SUPPLY | FAIRE People buy our liquid bases to make their own room sprays and diffuser oils *Available for retailers who are new to Faire Wholesale Candle Making SuppliesCandle making supplies are the essential items you need to create your own candles at home. They include candle making wax, wicks, candle making fragrance oils, colorants, candle making jars, and accessories. Candle making supplies can help you unleash your creativity and make candles that suit your style, mood, and occasion. Whether you want to make candles for yourself, as gifts, or as a business, you can find a variety of candle making supplies online or in stores. Wholesale Candle Making SuppliesCandle making supplies are the essential items you need to create your own candles at home. They include candle making wax, wicks, candle making fragrance oils, colorants, candle making jars, and accessories. Candle making supplies can help you unleash your creativity and make candles that suit your style, mood, and occasion. Whether you want to make candles for yourself, as gifts, or as a business, you can find a variety of candle making supplies online or in stores. Wholesale Candle Making SuppliesCandle making supplies are the essential items you need to create your own candles at home. They include candle making wax, wicks, candle making fragrance oils, colorants, candle making jars, and accessories. Candle making supplies can help you unleash your creativity and make candles that suit your style, mood, and occasion. Whether you want to make candles for yourself, as gifts, or as a business, you can find a variety of candle making supplies online or in stores. Wholesale Candle Making SuppliesCandle making supplies are the essential items you need to create your own candles at home. They include candle making wax, wicks, candle making fragrance oils, colorants, candle making jars, and accessories. Candle making supplies can help you unleash your creativity and make candles that suit your style, mood, and occasion. Whether you want to make candles for yourself, as gifts, or as a business, you can find a variety of candle making supplies online or in stores. Wholesale Candle Making SuppliesCandle making supplies are the essential items you need to create your own candles at home. They include candle making wax, wicks, candle making fragrance oils, colorants, candle making jars, and accessories. Candle making supplies can help you unleash your creativity and make candles that suit your style, mood, and occasion. Whether you want to make candles for yourself, as gifts, or as a business, you can find a variety of candle making supplies online or in stores. Wholesale Candle Making Supplies Candle making supplies are the essential items you need to create your own candles at home. They include candle making wax, wicks, candle making fragrance oils, colorants, candle making jars, and accessories. Candle making supplies can help you unleash your creativity and make candles that suit your style, mood, and occasion. Whether you want to make candles for yourself, as gifts, or as a business, you can find a variety of candle making supplies online or in stores. Some of the benefits of using candle making supplies are:You can customize your candles according to your preferences. You can choose the type of candle making wax, the scent, the color, and the shape of your candles. You can also add embellishments, such as glitter, dried flowers, or crystals, to make your candles more unique and attractive.You can save money and reduce waste by making your own candles. Buying ready-made candles can be expensive and wasteful, especially if you don’t like the scent or the quality. By making your own candles, you can use the exact amount of wax and fragrance oils you need, and reuse or recycle the containers.You can have fun and relax by making your own candles. Candle making is a rewarding and enjoyable hobby that can help you relieve stress and express yourself. You can also make candles with your friends or family and share the experience.If you are looking for high-quality candle making supplies at affordable wholesale prices, you can check out our a company that offers everything you need to create your own candles. They also provide online tutorials, tips, and trends to help you with your candle making journey. Visit our store today and discover the joy of candle making with Peach State Candle Supply. Some of the benefits of using candle making supplies are:You can customize your candles according to your preferences. You can choose the type of candle making wax, the scent, the color, and the shape of your candles. You can also add embellishments, such as glitter, dried flowers, or crystals, to make your candles more unique and attractive.You can save money and reduce waste by making your own candles. Buying ready-made candles can be expensive and wasteful, especially if you don’t like the scent or the quality. By making your own candles, you can use the exact amount of wax and fragrance oils you need, and reuse or recycle the containers.You can have fun and relax by making your own candles. Candle making is a rewarding and enjoyable hobby that can help you relieve stress and express yourself. You can also make candles with your friends or family and share the experience.If you are looking for high-quality candle making supplies at affordable wholesale prices, you can check out our a company that offers everything you need to create your own candles. They also provide online tutorials, tips, and trends to help you with your candle making journey. Visit our store today and discover the joy of candle making with Peach State Candle Supply. Some of the benefits of using candle making supplies are:You can customize your candles according to your preferences. You can choose the type of candle making wax, the scent, the color, and the shape of your candles. You can also add embellishments, such as glitter, dried flowers, or crystals, to make your candles more unique and attractive.You can save money and reduce waste by making your own candles. Buying ready-made candles can be expensive and wasteful, especially if you don’t like the scent or the quality. By making your own candles, you can use the exact amount of wax and fragrance oils you need, and reuse or recycle the containers.You can have fun and relax by making your own candles. Candle making is a rewarding and enjoyable hobby that can help you relieve stress and express yourself. You can also make candles with your friends or family and share the experience.If you are looking for high-quality candle making supplies at affordable wholesale prices, you can check out our a company that offers everything you need to create your own candles. They also provide online tutorials, tips, and trends to help you with your candle making journey. Visit our store today and discover the joy of candle making with Peach State Candle Supply. Some of the benefits of using candle making supplies are:You can customize your candles according to your preferences. You can choose the type of candle making wax, the scent, the color, and the shape of your candles. You can also add embellishments, such as glitter, dried flowers, or crystals, to make your candles more unique and attractive.You can save money and reduce waste by making your own candles. Buying ready-made candles can be expensive and wasteful, especially if you don’t like the scent or the quality. By making your own candles, you can use the exact amount of wax and fragrance oils you need, and reuse or recycle the containers. Some of the benefits of using candle making supplies are:You can customize your candles according to your preferences. You can choose the type of candle making wax, the scent, the color, and the shape of your candles. You can also add embellishments, such as glitter, dried flowers, or crystals, to make your candles more unique and attractive.You can save money and reduce waste by making your own candles. Buying ready-made candles can be expensive and wasteful, especially if you don’t like the scent or the quality. By making your own candles, you can use the exact amount of wax and fragrance oils you need, and reuse or recycle the containers. Some of the benefits of using candle making supplies are: You can have fun and relax by making your own candles. Candle making is a rewarding and enjoyable hobby that can help you relieve stress and express yourself. You can also make candles with your friends or family and share the experience.If you are looking for high-quality candle making supplies at affordable wholesale prices, you can check out our a company that offers everything you need to create your own candles. They also provide online tutorials, tips, and trends to help you with your candle making journey. Visit our store today and discover the joy of candle making with Peach State Candle Supply. You can have fun and relax by making your own candles. Candle making is a rewarding and enjoyable hobby that can help you relieve stress and express yourself. You can also make candles with your friends or family and share the experience.If you are looking for high-quality candle making supplies at affordable wholesale prices, you can check out our a company that offers everything you need to create your own candles. They also provide online tutorials, tips, and trends to help you with your candle making journey. Visit our store today and discover the joy of candle making with Peach State Candle Supply. Blog postsView AllAbout Us | Peach State Candle Supply Oct 15, 2022 Candle Making: A Fun and Rewarding Hobby Aug 08, 2023 Exploring the World of Candle Making: A Comprehensive Guide to Supplies and Techniques Oct 12, 2023 Finding potential retailers for your wholesale candle business Jan 27, 2024 Blog postsView AllAbout Us | Peach State Candle Supply Oct 15, 2022 Candle Making: A Fun and Rewarding Hobby Aug 08, 2023 Exploring the World of Candle Making: A Comprehensive Guide to Supplies and Techniques Oct 12, 2023 Finding potential retailers for your wholesale candle business Jan 27, 2024 Blog postsView All Blog posts Blog posts Blog posts View All View All About Us | Peach State Candle Supply Oct 15, 2022 Candle Making: A Fun and Rewarding Hobby Aug 08, 2023 Exploring the World of Candle Making: A Comprehensive Guide to Supplies and Techniques Oct 12, 2023 Finding potential retailers for your wholesale candle business Jan 27, 2024 About Us | Peach State Candle Supply Oct 15, 2022 Candle Making: A Fun and Rewarding Hobby Aug 08, 2023 Exploring the World of Candle Making: A Comprehensive Guide to Supplies and Techniques Oct 12, 2023 Finding potential retailers for your wholesale candle business Jan 27, 2024 About Us | Peach State Candle Supply Oct 15, 2022 Candle Making: A Fun and Rewarding Hobby Aug 08, 2023 Exploring the World of Candle Making: A Comprehensive Guide to Supplies and Techniques Oct 12, 2023 Finding potential retailers for your wholesale candle business Jan 27, 2024 About Us | Peach State Candle Supply Oct 15, 2022 Candle Making: A Fun and Rewarding Hobby Aug 08, 2023 Exploring the World of Candle Making: A Comprehensive Guide to Supplies and Techniques Oct 12, 2023 Finding potential retailers for your wholesale candle business Jan 27, 2024 About Us | Peach State Candle Supply Oct 15, 2022 Candle Making: A Fun and Rewarding Hobby Aug 08, 2023 Exploring the World of Candle Making: A Comprehensive Guide to Supplies and Techniques Oct 12, 2023 Finding potential retailers for your wholesale candle business Jan 27, 2024 About Us | Peach State Candle Supply Oct 15, 2022 About Us | Peach State Candle Supply Oct 15, 2022 About Us | Peach State Candle Supply Oct 15, 2022 About Us | Peach State Candle Supply Oct 15, 2022 About Us | Peach State Candle Supply Oct 15, 2022 About Us | Peach State Candle Supply Oct 15, 2022 Oct 15, 2022 Candle Making: A Fun and Rewarding Hobby Aug 08, 2023 Candle Making: A Fun and Rewarding Hobby Aug 08, 2023 Candle Making: A Fun and Rewarding Hobby Aug 08, 2023 Candle Making: A Fun and Rewarding Hobby Aug 08, 2023 Candle Making: A Fun and Rewarding Hobby Aug 08, 2023 Candle Making: A Fun and Rewarding Hobby Aug 08, 2023 Aug 08, 2023 Exploring the World of Candle Making: A Comprehensive Guide to Supplies and Techniques Oct 12, 2023 Exploring the World of Candle Making: A Comprehensive Guide to Supplies and Techniques Oct 12, 2023 Exploring the World of Candle Making: A Comprehensive Guide to Supplies and Techniques Oct 12, 2023 Exploring the World of Candle Making: A Comprehensive Guide to Supplies and Techniques Oct 12, 2023 Exploring the World of Candle Making: A Comprehensive Guide to Supplies and Techniques Oct 12, 2023 Exploring the World of Candle Making: A Comprehensive Guide to Supplies and Techniques Oct 12, 2023 Oct 12, 2023 Finding potential retailers for your wholesale candle business Jan 27, 2024 Finding potential retailers for your wholesale candle business Jan 27, 2024 Finding potential retailers for your wholesale candle business Jan 27, 2024 Finding potential retailers for your wholesale candle business Jan 27, 2024 Finding potential retailers for your wholesale candle business Jan 27, 2024 Finding potential retailers for your wholesale candle business Jan 27, 2024 Jan 27, 2024 See what customers are saying about us! See what customers are saying about us! See what customers are saying about us! Customers rate us 4.8/5 based on 1280 reviews. Customers rate us 4.8/5 based on 1280 reviews. Customers rate us 4.8/5 based on 1280 reviews. Customers rate us 4.8/5 based on 1280 reviews. Peach State Candle SupplyPeach State Candle Supply105 Charles CourtMcDonough, GA 30253 Facebook Instagram Quick links Contact Us About Us FAQ Hours of Operation:Tuesday-Friday: 9:00AM-5:00PMSaturday: 10:00am-2:00pmSunday: ClosedLast customer accepted at 4:30pm Copyright © 2025 Peach State Candle Supply.Powered by Shopify Country/region United States (USD $) Peach State Candle SupplyPeach State Candle Supply105 Charles CourtMcDonough, GA 30253 Facebook Instagram Quick links Contact Us About Us FAQ Hours of Operation:Tuesday-Friday: 9:00AM-5:00PMSaturday: 10:00am-2:00pmSunday: ClosedLast customer accepted at 4:30pm Peach State Candle SupplyPeach State Candle Supply105 Charles CourtMcDonough, GA 30253 Facebook Instagram Quick links Contact Us About Us FAQ Hours of Operation:Tuesday-Friday: 9:00AM-5:00PMSaturday: 10:00am-2:00pmSunday: ClosedLast customer accepted at 4:30pm Peach State Candle SupplyPeach State Candle Supply105 Charles CourtMcDonough, GA 30253 Facebook Instagram Peach State Candle Supply105 Charles CourtMcDonough, GA 30253 Facebook Instagram Peach State Candle Supply105 Charles CourtMcDonough, GA 30253 Facebook Instagram Quick links Contact Us About Us FAQ Hours of Operation:Tuesday-Friday: 9:00AM-5:00PMSaturday: 10:00am-2:00pmSunday: ClosedLast customer accepted at 4:30pm Tuesday-Friday: 9:00AM-5:00PMSaturday: 10:00am-2:00pmSunday: ClosedLast customer accepted at 4:30pm Tuesday-Friday: 9:00AM-5:00PMSaturday: 10:00am-2:00pmSunday: ClosedLast customer accepted at 4:30pm Copyright © 2025 Peach State Candle Supply.Powered by Shopify Country/region United States (USD $) Copyright © 2025 Peach State Candle Supply.Powered by Shopify Country/region United States (USD $) Pickup location My store Free. Usually ready in 24 hrs 123 John Doe StreetYour Town, YT 12345 Store HoursSun: ClosedMon-Fri: 9:00 - 17:00Sat: 10:00 - 13:00What to expect at pickup Get directions ClosedClosing at 5pmClosing at 5pmClosing at 5pmClosing at 5pmClosing at 5pmClosing at 1pm Pickup location My store Free. Usually ready in 24 hrs 123 John Doe StreetYour Town, YT 12345 Store HoursSun: ClosedMon-Fri: 9:00 - 17:00Sat: 10:00 - 13:00What to expect at pickup Get directions ClosedClosing at 5pmClosing at 5pmClosing at 5pmClosing at 5pmClosing at 5pmClosing at 1pm Pickup location My store Free. Usually ready in 24 hrs 123 John Doe StreetYour Town, YT 12345 Store HoursSun: ClosedMon-Fri: 9:00 - 17:00Sat: 10:00 - 13:00What to expect at pickup Get directions ClosedClosing at 5pmClosing at 5pmClosing at 5pmClosing at 5pmClosing at 5pmClosing at 1pm Pickup location Pickup location My store Free. Usually ready in 24 hrs 123 John Doe StreetYour Town, YT 12345 Store HoursSun: ClosedMon-Fri: 9:00 - 17:00Sat: 10:00 - 13:00What to expect at pickup Get directions ClosedClosing at 5pmClosing at 5pmClosing at 5pmClosing at 5pmClosing at 5pmClosing at 1pm My store Free. Usually ready in 24 hrs 123 John Doe StreetYour Town, YT 12345 Store HoursSun: ClosedMon-Fri: 9:00 - 17:00Sat: 10:00 - 13:00What to expect at pickup Get directions ClosedClosing at 5pmClosing at 5pmClosing at 5pmClosing at 5pmClosing at 5pmClosing at 1pm My store Free. Usually ready in 24 hrs 123 John Doe StreetYour Town, YT 12345 Store HoursSun: ClosedMon-Fri: 9:00 - 17:00Sat: 10:00 - 13:00What to expect at pickup Get directions ClosedClosing at 5pmClosing at 5pmClosing at 5pmClosing at 5pmClosing at 5pmClosing at 1pm My store Free. Usually ready in 24 hrs My store Free. Usually ready in 24 hrs My store Free. Usually ready in 24 hrs 123 John Doe StreetYour Town, YT 12345 Store HoursSun: ClosedMon-Fri: 9:00 - 17:00Sat: 10:00 - 13:00What to expect at pickup Get directions 123 John Doe StreetYour Town, YT 12345 Store HoursSun: ClosedMon-Fri: 9:00 - 17:00Sat: 10:00 - 13:00What to expect at pickup 123 John Doe StreetYour Town, YT 12345 Store HoursSun: ClosedMon-Fri: 9:00 - 17:00Sat: 10:00 - 13:00 What to expect at pickup Get directions ClosedClosing at 5pmClosing at 5pmClosing at 5pmClosing at 5pmClosing at 5pmClosing at 1pm Closed Closing at 5pm Closing at 5pm Closing at 5pm Closing at 5pm Closing at 5pm Closing at 1pm Shopping Cart (0) Close sidebar Your cart is currently empty. 0 $0.00 Continue browsing Order instructions Your cart is currently empty. 0 $0.00 Continue browsing Your cart is currently empty. Your cart is currently empty. Order instructions Order instructions Total $0.00 Taxes and shipping calculated at checkout View Cart Check Out Total $0.00 Taxes and shipping calculated at checkout View Cart Check Out Total $0.00 Taxes and shipping calculated at checkout View Cart Check Out Total $0.00 Taxes and shipping calculated at checkout View Cart Check Out',\n",
       " 'metadata': {'title': 'Peach State Candle Supply: The Candle-Making Supply Store\\n',\n",
       "  'meta_description': \"Are you in the candle-making business? Then it's time to visit Peach State Candle Supply—your candle-making supply wholesaler. Visit our website!\"}}"
      ]
     },
     "execution_count": 26,
     "metadata": {},
     "output_type": "execute_result"
    }
   ],
   "source": [
    "scraped_data=scrapper.scrape_website(clean_url)\n",
    "scraped_data"
   ]
  },
  {
   "cell_type": "code",
   "execution_count": 27,
   "metadata": {},
   "outputs": [],
   "source": [
    "cache.set(clean_url,scraped_data)"
   ]
  },
  {
   "cell_type": "code",
   "execution_count": 20,
   "metadata": {},
   "outputs": [
    {
     "data": {
      "text/plain": [
       "{'keywords': ['fragrance oils for candle making',\n",
       "  'candle making supplies in United States',\n",
       "  'concentrated mop soap base',\n",
       "  'renewable fragrance oil options',\n",
       "  'wholesale candle making bases'],\n",
       " 'business_name': 'Peach State Candle Supply',\n",
       " 'products_services': 'Fragrance Oils, Candle Making Supplies, Reed/Electric Diffuser Base, Room Spray/Body Spray Base, All Purpose Cleaner Base, Perfume Base, Concentrated Mop Soap Base',\n",
       " 'target_audience': 'Candle makers and DIY enthusiasts',\n",
       " 'location': 'United States',\n",
       " 'headers': [],\n",
       " 'emails': [],\n",
       " 'phones': []}"
      ]
     },
     "execution_count": 20,
     "metadata": {},
     "output_type": "execute_result"
    }
   ],
   "source": [
    "analysis=analyzer.analyze_with_ollama(scraped_data['content'],clean_url)\n",
    "analysis"
   ]
  },
  {
   "cell_type": "code",
   "execution_count": 21,
   "metadata": {},
   "outputs": [
    {
     "data": {
      "text/plain": [
       "(['fragrance oils for candle making',\n",
       "  'candle making supplies in United States',\n",
       "  'concentrated mop soap base',\n",
       "  'renewable fragrance oil options',\n",
       "  'wholesale candle making bases'],\n",
       " 'United States',\n",
       " 'Peach State Candle Supply')"
      ]
     },
     "execution_count": 21,
     "metadata": {},
     "output_type": "execute_result"
    }
   ],
   "source": [
    "location = analysis.get('location', '')\n",
    "keywords = analysis.get('keywords', [])\n",
    "business_name= analysis.get('business_name','')\n",
    "keywords,location,business_name"
   ]
  },
  {
   "cell_type": "code",
   "execution_count": 26,
   "metadata": {},
   "outputs": [
    {
     "data": {
      "text/plain": [
       "['https://vcandlesupplies.com',\n",
       " 'https://lonestarcandlesupply.com',\n",
       " 'https://www.candlescience.com',\n",
       " 'https://www.brambleberry.com',\n",
       " 'https://candle-shack.com']"
      ]
     },
     "execution_count": 26,
     "metadata": {},
     "output_type": "execute_result"
    }
   ],
   "source": [
    "top_competitor = analytics.find_top_competitors(keywords[0],location,clean_url,pages=1)\n",
    "top_competitor"
   ]
  },
  {
   "cell_type": "code",
   "execution_count": 27,
   "metadata": {},
   "outputs": [
    {
     "data": {
      "text/plain": [
       "'Yes'"
      ]
     },
     "execution_count": 27,
     "metadata": {},
     "output_type": "execute_result"
    }
   ],
   "source": [
    "analytics.check_gmb_setup(clean_url)"
   ]
  },
  {
   "cell_type": "code",
   "execution_count": 29,
   "metadata": {},
   "outputs": [
    {
     "data": {
      "text/plain": [
       "300"
      ]
     },
     "execution_count": 29,
     "metadata": {},
     "output_type": "execute_result"
    }
   ],
   "source": [
    "non_indexed_pages= analytics.count_non_indexed_pages(clean_url)\n",
    "non_indexed_pages"
   ]
  },
  {
   "cell_type": "code",
   "execution_count": 37,
   "metadata": {},
   "outputs": [
    {
     "name": "stdout",
     "output_type": "stream",
     "text": [
      "The autoreload extension is already loaded. To reload it, use:\n",
      "  %reload_ext autoreload\n"
     ]
    }
   ],
   "source": [
    "%load_ext autoreload\n",
    "%autoreload 2"
   ]
  },
  {
   "cell_type": "code",
   "execution_count": 38,
   "metadata": {},
   "outputs": [],
   "source": [
    "%reload_ext autoreload"
   ]
  },
  {
   "cell_type": "code",
   "execution_count": 39,
   "metadata": {},
   "outputs": [],
   "source": [
    "from src.core.advanced_analytics import AdvancedAnalytics\n",
    "analytics= AdvancedAnalytics()"
   ]
  },
  {
   "cell_type": "code",
   "execution_count": 40,
   "metadata": {},
   "outputs": [
    {
     "name": "stdout",
     "output_type": "stream",
     "text": [
      "Error counting total pages for https://peachstatecandlesupply.com: Couldn't find a tree builder with the features you requested: xml. Do you need to install a parser library?\n"
     ]
    },
    {
     "data": {
      "text/plain": [
       "100"
      ]
     },
     "execution_count": 40,
     "metadata": {},
     "output_type": "execute_result"
    }
   ],
   "source": [
    "total_pages = analytics.count_total_pages(clean_url)\n",
    "total_pages"
   ]
  },
  {
   "cell_type": "code",
   "execution_count": null,
   "metadata": {},
   "outputs": [],
   "source": []
  },
  {
   "cell_type": "code",
   "execution_count": 24,
   "metadata": {},
   "outputs": [],
   "source": [
    "# for url in urls:\n",
    "   \n",
    "#     clean_url=data_processor.clean_url(url)\n",
    "#     print(url,clean_url)\n",
    "#     try:\n",
    "#          data=scrapper.scrape_website(clean_url)\n",
    "#     except:\n",
    "#         print(f'Error in scrapping : {clean_url}')\n",
    "#         continue\n",
    "#     print(data)"
   ]
  },
  {
   "cell_type": "markdown",
   "metadata": {},
   "source": []
  },
  {
   "cell_type": "code",
   "execution_count": 26,
   "metadata": {},
   "outputs": [
    {
     "name": "stdout",
     "output_type": "stream",
     "text": [
      "Found 21 URLs\n",
      "\n",
      "Processing [1/21]: url\n",
      "✗ Scraping error: name 'web_scraper' is not defined\n",
      "\n",
      "Processing [2/21]: sanjosebengalcats.com\n",
      "✗ Scraping error: name 'web_scraper' is not defined\n",
      "\n",
      "Processing [3/21]: peachmarketplace.com\n",
      "✗ Scraping error: name 'web_scraper' is not defined\n",
      "\n",
      "Processing [4/21]: peachmcintyre.com\n",
      "✗ Scraping error: name 'web_scraper' is not defined\n",
      "\n",
      "Processing [5/21]: peachmedical.com\n",
      "✗ Scraping error: name 'web_scraper' is not defined\n",
      "\n",
      "Processing [6/21]: peachmeleggings.com\n",
      "✗ Scraping error: name 'web_scraper' is not defined\n",
      "\n",
      "Processing [7/21]: peachmode.com\n",
      "✗ Scraping error: name 'web_scraper' is not defined\n",
      "\n",
      "Processing [8/21]: peachmodern.com\n",
      "✗ Scraping error: name 'web_scraper' is not defined\n",
      "\n",
      "Processing [9/21]: peachmountain.com\n",
      "✗ Scraping error: name 'web_scraper' is not defined\n",
      "\n",
      "Processing [10/21]: peachofmind.com\n",
      "✗ Scraping error: name 'web_scraper' is not defined\n",
      "\n",
      "Processing [11/21]: peachonaleash.com\n",
      "✗ Scraping error: name 'web_scraper' is not defined\n",
      "\n",
      "Processing [12/21]: peachorchardapartments.com\n",
      "✗ Scraping error: name 'web_scraper' is not defined\n",
      "\n",
      "Processing [13/21]: peachpaperdesign.com\n",
      "✗ Scraping error: name 'web_scraper' is not defined\n",
      "\n",
      "Processing [14/21]: peachperfectskincare.com\n",
      "✗ Scraping error: name 'web_scraper' is not defined\n",
      "\n",
      "Processing [15/21]: peachpitgym.com\n",
      "✗ Scraping error: name 'web_scraper' is not defined\n",
      "\n",
      "Processing [16/21]: peachpitmusic.com\n",
      "✗ Scraping error: name 'web_scraper' is not defined\n",
      "\n",
      "Processing [17/21]: peachpitpotteryshop.com\n",
      "✗ Scraping error: name 'web_scraper' is not defined\n",
      "\n",
      "Processing [18/21]: peach-pump.com\n",
      "✗ Scraping error: name 'web_scraper' is not defined\n",
      "\n",
      "Processing [19/21]: peachstatebasketball.com\n",
      "✗ Scraping error: name 'web_scraper' is not defined\n",
      "\n",
      "Processing [20/21]: peachstatecandlesupply.com\n",
      "✗ Scraping error: name 'web_scraper' is not defined\n",
      "\n",
      "Processing [21/21]: peachstateco.com\n",
      "✗ Scraping error: name 'web_scraper' is not defined\n",
      "\n",
      "Summary:\n",
      "Total URLs processed: 21\n",
      "Successful: 0\n",
      "Empty responses: 0\n",
      "Failed: 21\n",
      "\n",
      "Results saved to: scraping_results.xlsx\n"
     ]
    }
   ],
   "source": [
    "try:\n",
    "    # Read URLs into DataFrame\n",
    "    urls = data_processor.read_excel_to_url('/home/gops/work/market_analysis/input/test.xlsx')\n",
    "    print(f\"Found {len(urls)} URLs\")\n",
    "    \n",
    "    # Sample 50 URLs from DataFrame\n",
    "    # urls = urls[:10]\n",
    "    \n",
    "    # Initialize output dictionary\n",
    "    output = {}\n",
    "    \n",
    "    for i, url in enumerate(urls, 1):\n",
    "        try:\n",
    "            # Skip empty or invalid URLs\n",
    "            if not url or pd.isna(url):\n",
    "                print(f\"Skipping empty URL at position {i}\")\n",
    "                continue\n",
    "                \n",
    "            print(f\"\\nProcessing [{i}/{len(urls)}]: {url}\")\n",
    "            \n",
    "            # Clean URL\n",
    "            try:\n",
    "                clean_url = data_processor.clean_url(url)\n",
    "                if not clean_url:\n",
    "                    raise ValueError(\"URL cleaning resulted in empty URL\")\n",
    "            except Exception as e:\n",
    "                print(f\"Error cleaning URL {url}: {str(e)}\")\n",
    "                output[url] = {\n",
    "                    'cleaned_url': None,\n",
    "                    'status': 'error',\n",
    "                    'data': None,\n",
    "                    'error': f\"URL cleaning error: {str(e)}\",\n",
    "                    'timestamp': datetime.now().isoformat()\n",
    "                }\n",
    "                continue\n",
    "            \n",
    "            # Initialize dictionary for this URL\n",
    "            output[url] = {\n",
    "                'cleaned_url': clean_url,\n",
    "                'status': 'pending',\n",
    "                'data': None,\n",
    "                'error': None,\n",
    "                'timestamp': datetime.now().isoformat()\n",
    "            }\n",
    "            \n",
    "            # Add scheme if missing\n",
    "            if not clean_url.startswith(('http://', 'https://')):\n",
    "                clean_url = 'https://' + clean_url\n",
    "            \n",
    "            # Scrape website\n",
    "            try:\n",
    "                scraped_data = web_scraper.scrape_website(clean_url)\n",
    "                \n",
    "                # Check if scraping was successful\n",
    "                if scraped_data.get('content') or (scraped_data.get('metadata', {}).get('title') != 'Loading...' \n",
    "                    and scraped_data.get('metadata', {}).get('title') is not None):\n",
    "                    output[url].update({\n",
    "                        'status': 'success',\n",
    "                        'data': {\n",
    "                            'title': scraped_data.get('metadata', {}).get('title', ''),\n",
    "                            'meta_description': scraped_data.get('metadata', {}).get('meta_description', ''),\n",
    "                            'content': scraped_data.get('content', '')\n",
    "                        }\n",
    "                    })\n",
    "                    print(f\"✓ Success - {clean_url}\")\n",
    "                else:\n",
    "                    output[url].update({\n",
    "                        'status': 'empty',\n",
    "                        'error': 'No content scraped'\n",
    "                    })\n",
    "                    print(f\"✗ Empty response - {clean_url}\")\n",
    "                    \n",
    "            except Exception as e:\n",
    "                output[url].update({\n",
    "                    'status': 'error',\n",
    "                    'error': f\"Scraping error: {str(e)}\"\n",
    "                })\n",
    "                print(f\"✗ Scraping error: {str(e)}\")\n",
    "                \n",
    "        except Exception as e:\n",
    "            if url in output:\n",
    "                output[url].update({\n",
    "                    'status': 'error',\n",
    "                    'error': f\"Processing error: {str(e)}\"\n",
    "                })\n",
    "            else:\n",
    "                output[url] = {\n",
    "                    'cleaned_url': None,\n",
    "                    'status': 'error',\n",
    "                    'data': None,\n",
    "                    'error': f\"Processing error: {str(e)}\",\n",
    "                    'timestamp': datetime.now().isoformat()\n",
    "                }\n",
    "            print(f\"✗ Processing error: {str(e)}\")\n",
    "            continue\n",
    "\n",
    "    # Print summary\n",
    "    success_count = len([v for v in output.values() if v['status'] == 'success'])\n",
    "    empty_count = len([v for v in output.values() if v['status'] == 'empty'])\n",
    "    error_count = len([v for v in output.values() if v['status'] == 'error'])\n",
    "    \n",
    "    print(\"\\nSummary:\")\n",
    "    print(f\"Total URLs processed: {len(output)}\")\n",
    "    print(f\"Successful: {success_count}\")\n",
    "    print(f\"Empty responses: {empty_count}\")\n",
    "    print(f\"Failed: {error_count}\")\n",
    "    \n",
    "    # Convert to DataFrame\n",
    "    results_df = pd.DataFrame.from_dict(output, orient='index')\n",
    "    results_df.reset_index(inplace=True)\n",
    "    results_df.rename(columns={'index': 'original_url'}, inplace=True)\n",
    "    \n",
    "    # Save results\n",
    "    output_file = f\"scraping_results.xlsx\"\n",
    "    results_df.to_excel(output_file, index=False)\n",
    "    print(f\"\\nResults saved to: {output_file}\")\n",
    "\n",
    "except Exception as e:\n",
    "    print(f\"Main process error: {str(e)}\")"
   ]
  },
  {
   "cell_type": "code",
   "execution_count": 25,
   "metadata": {},
   "outputs": [],
   "source": [
    "from datetime import datetime"
   ]
  },
  {
   "cell_type": "code",
   "execution_count": null,
   "metadata": {},
   "outputs": [],
   "source": []
  }
 ],
 "metadata": {
  "kernelspec": {
   "display_name": "venv",
   "language": "python",
   "name": "python3"
  },
  "language_info": {
   "codemirror_mode": {
    "name": "ipython",
    "version": 3
   },
   "file_extension": ".py",
   "mimetype": "text/x-python",
   "name": "python",
   "nbconvert_exporter": "python",
   "pygments_lexer": "ipython3",
   "version": "3.10.12"
  }
 },
 "nbformat": 4,
 "nbformat_minor": 2
}
